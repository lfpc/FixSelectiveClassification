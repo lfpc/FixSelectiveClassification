{
 "cells": [
  {
   "cell_type": "markdown",
   "metadata": {},
   "source": [
    "# Import and pre-definitions"
   ]
  },
  {
   "cell_type": "code",
   "execution_count": null,
   "metadata": {},
   "outputs": [],
   "source": [
    "import os\n",
    "MAIN_PATH = r'/home/luis-felipe'\n",
    "DATA_PATH = r'/data'\n",
    "PATH_MODELS = os.path.join(MAIN_PATH,'torch_models')\n",
    "FIGS_PATH = os.path.join(MAIN_PATH,'results','figs')"
   ]
  },
  {
   "cell_type": "code",
   "execution_count": null,
   "metadata": {},
   "outputs": [],
   "source": [
    "import torch\n",
    "import matplotlib\n",
    "import matplotlib.pyplot as plt\n",
    "import numpy as np\n",
    "import pandas as pd\n",
    "from collections import defaultdict"
   ]
  },
  {
   "cell_type": "code",
   "execution_count": null,
   "metadata": {},
   "outputs": [],
   "source": [
    "# Define o computador utilizado como cuda (gpu) se existir ou cpu caso contrário\n",
    "print(torch.cuda.is_available())\n",
    "dev = torch.device('cuda') if torch.cuda.is_available() else torch.device('cpu')\n",
    "torch.set_default_dtype(torch.float64)\n",
    "SEED = 42\n",
    "torch.manual_seed(SEED)\n",
    "np.random.seed(SEED)"
   ]
  },
  {
   "cell_type": "code",
   "execution_count": null,
   "metadata": {},
   "outputs": [],
   "source": [
    "import sys\n",
    "sys.path.insert(1, '..')\n",
    "sys.path.insert(1, '../..')\n",
    "\n",
    "import models\n",
    "from utils import measures,metrics\n",
    "from data_utils import upload_logits,split_data\n",
    "import post_hoc"
   ]
  },
  {
   "cell_type": "markdown",
   "metadata": {},
   "source": [
    "# Definitions"
   ]
  },
  {
   "cell_type": "code",
   "execution_count": null,
   "metadata": {},
   "outputs": [],
   "source": [
    "DATASET = 'ImageNet'\n",
    "VAL_SIZE = 0.1 #5000\n",
    "SUB_VAL_SIZE = 1\n",
    "METRIC = metrics.AURC\n",
    "NUM_EXPERIMENTS = 10"
   ]
  },
  {
   "cell_type": "code",
   "execution_count": null,
   "metadata": {},
   "outputs": [],
   "source": [
    "methods = {'MSP':measures.MSP,\n",
    "           'SoftmaxMargin': measures.margin_softmax,\n",
    "           #'Energy': lambda x:torch.logsumexp(x,-1),\n",
    "           'MaxLogit':measures.max_logit,\n",
    "           'LogitsMargin':measures.margin_logits,\n",
    "           'NegativeEntropy':measures.negative_entropy,\n",
    "           'NegativeGini': measures.negative_gini}\n",
    "\n",
    "optm_metrics = {'naurc': metrics.N_AURC,'aurc':metrics.AURC,'auroc':metrics.AUROC,'sac':lambda x,y: metrics.SAC(x,y,0.98), 'ece': metrics.ECE(15)}\n",
    "transforms = ['raw','T_nll','T','p']\n",
    "\n",
    "p_range = torch.arange(10)"
   ]
  },
  {
   "cell_type": "markdown",
   "metadata": {},
   "source": [
    "# Evaluate"
   ]
  },
  {
   "cell_type": "code",
   "execution_count": null,
   "metadata": {},
   "outputs": [],
   "source": [
    "results = {m:{method:{t:defaultdict(list) for t in transforms} for method in methods.keys()} for m in optm_metrics}\n",
    "results_fallback = {m:{method:{t:defaultdict(list) for t in transforms} for method in methods.keys()} for m in optm_metrics}\n",
    "p_list = {m:defaultdict(list) for m in methods.keys()}\n",
    "acc = defaultdict(list)\n",
    "msps = defaultdict(list)"
   ]
  },
  {
   "cell_type": "code",
   "execution_count": null,
   "metadata": {
    "tags": []
   },
   "outputs": [],
   "source": [
    "seed = SEED\n",
    "for i in range(NUM_EXPERIMENTS):\n",
    "    print(i+1)\n",
    "    for model_arc in models.list_models(DATASET):\n",
    "        #print(model_arc)\n",
    "        with torch.no_grad():\n",
    "            logits_val,labels_val,logits_test,labels_test = split_data.split_logits(*upload_logits(model_arc,DATASET,PATH_MODELS, \n",
    "                                split = 'test', device = dev),VAL_SIZE,seed = seed)\n",
    "            logits_val,labels_val = logits_val[:int(SUB_VAL_SIZE*labels_val.size(0))],labels_val[:int(SUB_VAL_SIZE*labels_val.size(0))]\n",
    "            risk_val = measures.wrong_class(logits_val,labels_val).float()\n",
    "            risk_test = measures.wrong_class(logits_test,labels_test).float()\n",
    "        acc[model_arc].append(1-risk_test.mean().item())\n",
    "        msps[model_arc].append(measures.MSP(logits_test).mean().item())\n",
    "        T_nll = post_hoc.optimize.T(logits_val,labels_val,method = lambda x:x,metric = torch.nn.CrossEntropyLoss())\n",
    "        \n",
    "        for m,method in methods.items():\n",
    "            if m == 'MaxLogit' or m == 'LogitsMargin': T_range = [1]\n",
    "            else: T_range = torch.arange(0.01,2,0.01)\n",
    "            pT = post_hoc.optimize.p_and_T(logits_val,risk_val,method,METRIC,p_range=p_range,T_range=T_range)\n",
    "            if METRIC(method(post_hoc.normalize(logits_val,pT[0]).div(pT[1])),risk_val) > METRIC(measures.MSP(logits_val),risk_val):\n",
    "                p_list[m][model_arc].append('MSP')\n",
    "            else: p_list[m][model_arc].append(pT[0].item())\n",
    "            T = post_hoc.optimize.T(logits_val,risk_val,method,METRIC,T_range = T_range)\n",
    "\n",
    "            for t in transforms:\n",
    "                if t == 'T_nll': fn = lambda z: z.div(T_nll)\n",
    "                elif t == 'T': fn = lambda z: z.div(T)\n",
    "                elif t == 'p': fn = lambda z: post_hoc.normalize(z,pT[0]).div(pT[1])\n",
    "                elif t == 'raw': fn = lambda z: z\n",
    "                Z = fn(logits_test)\n",
    "                fallback = METRIC(method(fn(logits_val)),risk_val) > METRIC(measures.MSP(logits_val),risk_val)\n",
    "                for metric in optm_metrics:\n",
    "                    metric_value = optm_metrics[metric](method(Z),risk_test)\n",
    "                    results[metric][m][t][model_arc].append(metric_value)\n",
    "                    if fallback:\n",
    "                        results_fallback[metric][m][t][model_arc].append(optm_metrics[metric](measures.MSP(logits_test),risk_test)) \n",
    "                    else:\n",
    "                        results_fallback[metric][m][t][model_arc].append(metric_value)\n",
    "    seed = seed+10\n",
    "\n",
    "models_list = list(acc.keys())"
   ]
  },
  {
   "cell_type": "markdown",
   "metadata": {},
   "source": [
    "# Plot"
   ]
  },
  {
   "cell_type": "code",
   "execution_count": null,
   "metadata": {},
   "outputs": [],
   "source": [
    "means = {}\n",
    "std = {}\n",
    "acc_mean = {}\n",
    "for metric, d_metric in results.items():\n",
    "    means[metric] = {}\n",
    "    std[metric] = {}\n",
    "    for method, d_method in d_metric.items():\n",
    "        means[metric][method] = {}\n",
    "        std[metric][method] = {}\n",
    "        for transform, d_t in d_method.items():\n",
    "            means[metric][method][transform] = {}\n",
    "            std[metric][method][transform] = {}\n",
    "            for model_arc,v in d_t.items():\n",
    "                means[metric][method][transform][model_arc] = np.mean(v)\n",
    "                std[metric][method][transform][model_arc] = np.std(v)\n",
    "                acc_mean[model_arc] = np.mean(acc[model_arc])"
   ]
  },
  {
   "cell_type": "code",
   "execution_count": null,
   "metadata": {},
   "outputs": [],
   "source": [
    "baseline = np.array(list(results['naurc']['MSP']['raw'].values()))"
   ]
  },
  {
   "cell_type": "markdown",
   "metadata": {},
   "source": [
    "## Figure 2"
   ]
  },
  {
   "cell_type": "code",
   "execution_count": null,
   "metadata": {},
   "outputs": [],
   "source": [
    "idx = np.argsort(baseline.mean(-1)-np.array(list(means['naurc']['MaxLogit']['p'].values())))[::-1]\n",
    "\n",
    "methods_plot = {'MSP-TS-AURC':results['naurc']['MSP']['T'],\n",
    "                'MSP-TS-NLL':results['naurc']['MSP']['T_nll'],\n",
    "                'MSP-pNorm':results['naurc']['MSP']['p'],\n",
    "                'MaxLogit-pNorm':results['naurc']['MaxLogit']['p'],\n",
    "                'LogitsMargin':results['naurc']['LogitsMargin']['raw'],\n",
    "                'LogitsMargin-pNorm':results['naurc']['LogitsMargin']['p'],\n",
    "                'NegativeGini-pNorm':results['naurc']['NegativeGini']['p'],}\n",
    "\n",
    "colors = iter(['blue','gray','green','red','lime','y','violet','pink'])\n",
    "plt.figure(figsize = (8,5))\n",
    "for name,values in methods_plot.items():\n",
    "    values = np.array(list(values.values()))\n",
    "    gains = baseline-values\n",
    "    gains_mean = gains.mean(-1)[idx]\n",
    "    gains_std = gains.std(-1)[idx]\n",
    "    plot = plt.plot(range(1,len(models_list)+1),gains_mean,label = name,color = next(colors))\n",
    "    plt.fill_between(range(1,len(models_list)+1),gains_mean-gains_std,gains_mean+gains_std,alpha = 0.4,color = plot[0].get_color())\n",
    "plt.axhline(0.01,color = 'k',linestyle = '--')\n",
    "plt.axhline(0,color = 'k',linestyle = '--',alpha = 0.5, label = 'MSP')\n",
    "plt.legend(prop={'size': 12})\n",
    "plt.text(5, 0.03, r'$\\epsilon = 0.01$', fontsize=8,\n",
    "        verticalalignment='top', bbox=dict(boxstyle='round', facecolor='wheat', alpha=0.3))\n",
    "plt.xlim(1,len(models_list))\n",
    "plt.xlabel('Model')\n",
    "plt.ylabel('NAURC gain over MSP',fontsize=13)\n",
    "plt.grid()\n",
    "plt.tick_params(axis='both',  labelsize=12)\n",
    "plt.savefig(os.path.join(FIGS_PATH,f'gains_methods_{DATASET}.pdf'), transparent = True, format = 'pdf',bbox_inches = 'tight')\n",
    "plt.show()"
   ]
  },
  {
   "cell_type": "markdown",
   "metadata": {},
   "source": [
    "### Zoom"
   ]
  },
  {
   "cell_type": "code",
   "execution_count": null,
   "metadata": {},
   "outputs": [],
   "source": [
    "idx = np.argsort(baseline.mean(-1)-np.array(list(means['naurc']['MaxLogit']['p'].values())))[::-1]\n",
    "\n",
    "methods_plot = {'MSP-TS-AURC':results['naurc']['MSP']['T'],\n",
    "                'MSP-TS-NLL':results['naurc']['MSP']['T_nll'],\n",
    "                'MSP-pNorm':results['naurc']['MSP']['p'],\n",
    "                'MaxLogit-pNorm':results['naurc']['MaxLogit']['p'],\n",
    "                'LogitsMargin':results['naurc']['LogitsMargin']['raw'],\n",
    "                'LogitsMargin-pNorm':results['naurc']['LogitsMargin']['p'],\n",
    "                'NegativeGini-pNorm':results['naurc']['NegativeGini']['p'],}\n",
    "\n",
    "colors = iter(['blue','gray','green','red','lime','y','violet','pink'])\n",
    "plt.figure(figsize = (8,3))\n",
    "for name,values in methods_plot.items():\n",
    "    values = np.array(list(values.values()))\n",
    "    gains = baseline-values\n",
    "    gains_mean = gains.mean(-1)[idx]\n",
    "    gains_std = gains.std(-1)[idx]\n",
    "    plot = plt.plot(gains_mean,label = name,color = next(colors))\n",
    "    plt.fill_between(range(len(models_list)),gains_mean-gains_std,gains_mean+gains_std,alpha = 0.4,color = plot[0].get_color())\n",
    "plt.axhline(0.01,color = 'k',linestyle = '--')\n",
    "#plt.axhline(0,color = 'k',linestyle = '--',alpha = 0.5, label = 'MSP')\n",
    "plt.ylabel('NAURC gain over MSP',fontsize=13)\n",
    "#plt.xlabel('Model')\n",
    "plt.legend()\n",
    "plt.xlim(5,50)\n",
    "plt.ylim(0.05,0.15)\n",
    "plt.tick_params(axis='both',  labelsize=12)\n",
    "plt.savefig(os.path.join(FIGS_PATH,f'NAURC_gains_methods_{DATASET}_zoom.pdf'), transparent = True, format = 'pdf',bbox_inches = 'tight')\n",
    "plt.show()"
   ]
  },
  {
   "cell_type": "markdown",
   "metadata": {},
   "source": [
    "## Figure 3"
   ]
  },
  {
   "cell_type": "code",
   "execution_count": null,
   "metadata": {},
   "outputs": [],
   "source": [
    "from scipy.stats import spearmanr,mode\n",
    "optimal_naurc = np.array(list(results_fallback['naurc']['MaxLogit']['p'].values())).mean(-1)\n",
    "p_list_mode = mode(np.array(list(p_list['MaxLogit'].values())),-1,keepdims = False).mode"
   ]
  },
  {
   "cell_type": "markdown",
   "metadata": {},
   "source": [
    "### NAURC"
   ]
  },
  {
   "cell_type": "code",
   "execution_count": null,
   "metadata": {},
   "outputs": [],
   "source": [
    "fig,axes = plt.subplots(1,2,figsize = (10,4), sharey = True,sharex = True)\n",
    "fig.tight_layout()\n",
    "\n",
    "scatter = axes[0].scatter(np.array(list(acc.values())).mean(-1),np.array(list(results_fallback['naurc']['MSP']['raw'].values())).mean(-1),c = [-1 if x=='MSP' else x for x in p_list_mode])\n",
    "axes[1].scatter(np.array(list(acc.values())).mean(-1),optimal_naurc,c = [-1 if x=='MSP' else x for x in p_list_mode])\n",
    "axes[0].set_title(fr\"Baseline - $\\rho$={spearmanr(np.array(list(acc.values())).mean(-1),np.array(list(results_fallback['naurc']['MSP']['raw'].values())).mean(-1)).correlation:.4f}\")\n",
    "axes[1].set_title(fr\"Optimized- $\\rho$={spearmanr(np.array(list(acc.values())).mean(-1),optimal_naurc).correlation:.4f}\")\n",
    "axes[0].set_ylabel('NAURC')\n",
    "for ax in axes:\n",
    "    ax.grid()\n",
    "    ax.set_xlabel('Accuracy')\n",
    "    for item in ([ax.title, ax.xaxis.label, ax.yaxis.label] +\n",
    "             ax.get_xticklabels() + ax.get_yticklabels()):\n",
    "        item.set_fontsize(15)\n",
    "axes[0].set_xticks(axes[0].get_xticks()[1:-2])\n",
    "#axes[0].legend()\n",
    "l = scatter.legend_elements()[1]\n",
    "for n,i in enumerate(l):\n",
    "    l[n] = 'p = '+i \n",
    "l[0] = 'MSP'\n",
    "\n",
    "legend1 = axes[1].legend(scatter.legend_elements()[0], l, prop={'size': 13})\n",
    "\n",
    "plt.savefig(os.path.join(FIGS_PATH,'NAURC.pdf'), transparent = True, format = 'pdf',bbox_inches = 'tight')\n",
    "plt.show()"
   ]
  },
  {
   "cell_type": "markdown",
   "metadata": {},
   "source": [
    "### AURC"
   ]
  },
  {
   "cell_type": "code",
   "execution_count": null,
   "metadata": {},
   "outputs": [],
   "source": [
    "optimal_aurc = np.array(list(results_fallback['aurc']['MaxLogit']['p'].values())).mean(-1)\n",
    "fig,axes = plt.subplots(1,2,figsize = (10,4), sharey = True,sharex = True)\n",
    "fig.tight_layout()\n",
    "\n",
    "scatter = axes[0].scatter(np.array(list(acc.values())).mean(-1),np.array(list(results_fallback['aurc']['MSP']['raw'].values())).mean(-1),c = [-1 if x=='MSP' else x for x in p_list_mode])\n",
    "axes[1].scatter(np.array(list(acc.values())).mean(-1),optimal_aurc,c = [-1 if x=='MSP' else x for x in p_list_mode])\n",
    "axes[0].set_title(fr\"Baseline - $\\rho$={spearmanr(np.array(list(acc.values())).mean(-1),np.array(list(results_fallback['aurc']['MSP']['raw'].values())).mean(-1)).correlation:.4f}\")\n",
    "axes[1].set_title(fr\"Optimized- $\\rho$={spearmanr(np.array(list(acc.values())).mean(-1),optimal_aurc).correlation:.4f}\")\n",
    "axes[0].set_ylabel('AURC')\n",
    "for ax in axes:\n",
    "    ax.grid()\n",
    "    ax.set_xlabel('Accuracy')\n",
    "    for item in ([ax.title, ax.xaxis.label, ax.yaxis.label] +\n",
    "             ax.get_xticklabels() + ax.get_yticklabels()):\n",
    "        item.set_fontsize(15)\n",
    "axes[0].set_xticks(axes[0].get_xticks()[1:-2])\n",
    "#axes[0].legend()\n",
    "l = scatter.legend_elements()[1]\n",
    "for n,i in enumerate(l):\n",
    "    l[n] = 'p = '+i \n",
    "l[0] = 'MSP'\n",
    "\n",
    "legend1 = axes[1].legend(scatter.legend_elements()[0], l, prop={'size': 13})\n",
    "\n",
    "plt.savefig(os.path.join(FIGS_PATH,'NAURC.pdf'), transparent = True, format = 'pdf',bbox_inches = 'tight')\n",
    "plt.show()"
   ]
  },
  {
   "cell_type": "markdown",
   "metadata": {},
   "source": [
    "### AUROC"
   ]
  },
  {
   "cell_type": "code",
   "execution_count": null,
   "metadata": {},
   "outputs": [],
   "source": [
    "optimal_auroc = np.array(list(results_fallback['auroc']['MaxLogit']['p'].values())).mean(-1)\n",
    "fig,axes = plt.subplots(1,2,figsize = (10,4), sharey = True,sharex = True)\n",
    "fig.tight_layout()\n",
    "\n",
    "scatter = axes[0].scatter(np.array(list(acc.values())).mean(-1),np.array(list(results_fallback['auroc']['MSP']['raw'].values())).mean(-1),c = [-1 if x=='MSP' else x for x in p_list_mode])\n",
    "axes[1].scatter(np.array(list(acc.values())).mean(-1),optimal_auroc,c = [-1 if x=='MSP' else x for x in p_list_mode])\n",
    "axes[0].set_title(fr\"Baseline - $\\rho$={spearmanr(np.array(list(acc.values())).mean(-1),np.array(list(results_fallback['auroc']['MSP']['raw'].values())).mean(-1)).correlation:.4f}\")\n",
    "axes[1].set_title(fr\"Optimized- $\\rho$={spearmanr(np.array(list(acc.values())).mean(-1),optimal_auroc).correlation:.4f}\")\n",
    "axes[0].set_ylabel('AUROC')\n",
    "for ax in axes:\n",
    "    ax.grid()\n",
    "    ax.set_xlabel('Accuracy')\n",
    "    for item in ([ax.title, ax.xaxis.label, ax.yaxis.label] +\n",
    "             ax.get_xticklabels() + ax.get_yticklabels()):\n",
    "        item.set_fontsize(15)\n",
    "axes[0].set_xticks(axes[0].get_xticks()[1:-2])\n",
    "#axes[0].legend()\n",
    "l = scatter.legend_elements()[1]\n",
    "for n,i in enumerate(l):\n",
    "    l[n] = 'p = '+i \n",
    "l[0] = 'MSP'\n",
    "\n",
    "legend1 = axes[1].legend(scatter.legend_elements()[0], l, prop={'size': 13})\n",
    "\n",
    "plt.savefig(os.path.join(FIGS_PATH,'NAURC.pdf'), transparent = True, format = 'pdf',bbox_inches = 'tight')\n",
    "plt.show()"
   ]
  },
  {
   "cell_type": "markdown",
   "metadata": {},
   "source": [
    "### SAC"
   ]
  },
  {
   "cell_type": "code",
   "execution_count": null,
   "metadata": {},
   "outputs": [],
   "source": [
    "optimal_sac = np.array(list(results_fallback['sac']['MaxLogit']['p'].values())).mean(-1)\n",
    "fig,axes = plt.subplots(1,2,figsize = (10,4), sharey = True,sharex = True)\n",
    "fig.tight_layout()\n",
    "\n",
    "scatter = axes[0].scatter(np.array(list(acc.values())).mean(-1),np.array(list(results_fallback['sac']['MSP']['raw'].values())).mean(-1),c = [-1 if x=='MSP' else x for x in p_list_mode])\n",
    "axes[1].scatter(np.array(list(acc.values())).mean(-1),optimal_sac,c = [-1 if x=='MSP' else x for x in p_list_mode])\n",
    "axes[0].set_title(fr\"Baseline - $\\rho$={spearmanr(np.array(list(acc.values())).mean(-1),np.array(list(results_fallback['sac']['MSP']['raw'].values())).mean(-1)).correlation:.4f}\")\n",
    "axes[1].set_title(fr\"Optimized- $\\rho$={spearmanr(np.array(list(acc.values())).mean(-1),optimal_sac).correlation:.4f}\")\n",
    "axes[0].set_ylabel('AUROC')\n",
    "for ax in axes:\n",
    "    ax.grid()\n",
    "    ax.set_xlabel('Accuracy')\n",
    "    for item in ([ax.title, ax.xaxis.label, ax.yaxis.label] +\n",
    "             ax.get_xticklabels() + ax.get_yticklabels()):\n",
    "        item.set_fontsize(15)\n",
    "axes[0].set_xticks(axes[0].get_xticks()[1:-2])\n",
    "#axes[0].legend()\n",
    "l = scatter.legend_elements()[1]\n",
    "for n,i in enumerate(l):\n",
    "    l[n] = 'p = '+i \n",
    "l[0] = 'MSP'\n",
    "\n",
    "legend1 = axes[1].legend(scatter.legend_elements()[0], l, prop={'size': 13})\n",
    "\n",
    "plt.savefig(os.path.join(FIGS_PATH,'NAURC.pdf'), transparent = True, format = 'pdf',bbox_inches = 'tight')\n",
    "plt.show()"
   ]
  },
  {
   "cell_type": "markdown",
   "metadata": {
    "jp-MarkdownHeadingCollapsed": true,
    "tags": []
   },
   "source": [
    "## Table 1"
   ]
  },
  {
   "cell_type": "code",
   "execution_count": null,
   "metadata": {},
   "outputs": [],
   "source": [
    "for model_arc,model_name in {'efficientnetv2_xl': 'EfficientNet-V2-XL', 'vgg16':'VGG16'}.items():\n",
    "    print(r'\\midrule \\multirow{6}{*}{' + model_name + '}' )\n",
    "    for method, d_method in results['naurc'].items():\n",
    "        string = f'& {method}'\n",
    "        for transform, d_t in d_method.items():\n",
    "            if 'T' in transform and 'Logit' in method:\n",
    "                string += f\" & -\"\n",
    "            else: string += f\" & {np.mean(d_t[model_arc],-1):.4f}\"+r' {\\footnotesize $\\pm$'+f\"{np.std(d_t[model_arc],-1):.4f}\" + \"}\"\n",
    "        print(string + r' \\\\')\n",
    "            "
   ]
  },
  {
   "cell_type": "markdown",
   "metadata": {
    "tags": []
   },
   "source": [
    "## Table 2"
   ]
  },
  {
   "cell_type": "code",
   "execution_count": null,
   "metadata": {},
   "outputs": [],
   "source": [
    "for method, d_method in results_fallback['naurc'].items():\n",
    "    string = f'{method}'\n",
    "    for transform, d_t in d_method.items():\n",
    "        if 'T' in transform and 'Logit' in method:\n",
    "            string += f\" & -\"\n",
    "        #elif post_hoc.significant(baseline - np.array(list(d_t.values()))).mean() < 0.00001 and post_hoc.significant(baseline - np.array(list(d_t.values()))).mean(0).std()<0.0001:\n",
    "        #    string += r\" & 0.0 {\\footnotesize $\\pm$ 0.0}\"\n",
    "        else: string += f\" & {post_hoc.significant(baseline - np.array(list(d_t.values()))).mean():.5f}\"+r' {\\footnotesize $\\pm$'+f\"{post_hoc.significant(baseline - np.array(list(d_t.values()))).mean(0).std():.5f}\"+\"}\"\n",
    "    print(string + r' \\\\')"
   ]
  },
  {
   "cell_type": "markdown",
   "metadata": {},
   "source": [
    "## Epsilon ablation - Figure 8"
   ]
  },
  {
   "cell_type": "code",
   "execution_count": null,
   "metadata": {},
   "outputs": [],
   "source": [
    "epsilon_list = np.arange(0,0.051,0.001)\n",
    "from collections import defaultdict\n",
    "apgs_mean = defaultdict(list)\n",
    "apgs_std = defaultdict(list)\n",
    "for m in methods:\n",
    "    for epsilon in epsilon_list:\n",
    "        v = results['naurc'][m]['p']\n",
    "        apgs_mean[m].append(np.mean(post_hoc.significant(baseline - np.array(list(results['naurc'][m]['p'].values())),epsilon).mean()))\n",
    "        apgs_std[m].append(np.mean(post_hoc.significant(baseline - np.array(list(results['naurc'][m]['p'].values())),epsilon).mean(0).std()))\n",
    "    apgs_mean[m] = np.asarray(apgs_mean[m])\n",
    "    apgs_std[m] = np.asarray(apgs_std[m])"
   ]
  },
  {
   "cell_type": "code",
   "execution_count": null,
   "metadata": {},
   "outputs": [],
   "source": [
    "plt.figure(figsize = (8,6))\n",
    "for m,apg in apgs_mean.items():\n",
    "    plot = plt.plot(epsilon_list,apg, label = m+'-pNorm')\n",
    "    plt.fill_between(epsilon_list,apg-apgs_std[m],apg+apgs_std[m],alpha = 0.2,color = plot[0].get_color())\n",
    "plt.xlabel(r'$\\epsilon$',fontsize=15)\n",
    "plt.ylabel('APG-NAURC',fontsize=15)\n",
    "plt.grid()\n",
    "plt.tick_params(axis='both',  labelsize=12)\n",
    "plt.legend(prop={'size': 12})\n",
    "plt.xlim(0,0.05)\n",
    "plt.savefig(os.path.join(FIGS_PATH,'epsilon.pdf'),format = 'pdf',transparent = True,bbox_inches = 'tight')\n",
    "plt.show()"
   ]
  },
  {
   "cell_type": "markdown",
   "metadata": {},
   "source": [
    "## ECE - Table 12"
   ]
  },
  {
   "cell_type": "code",
   "execution_count": null,
   "metadata": {},
   "outputs": [],
   "source": [
    "for method, d_method in results['ece'].items():\n",
    "    \n",
    "    string = f'{method}'\n",
    "    for transform, d_t in d_method.items():\n",
    "        if isinstance(transform,int): continue\n",
    "        string += f\" & {np.mean(list(d_t.values())):.5f}\"+r' {\\footnotesize $\\pm$'+f\"{np.array(list(d_t.values())).mean(0).std():.5f}\"+\"}\"\n",
    "    print(string + r' \\\\')\n",
    "    break"
   ]
  },
  {
   "cell_type": "markdown",
   "metadata": {},
   "source": [
    "## Gain x MSP - Figure 15"
   ]
  },
  {
   "cell_type": "code",
   "execution_count": null,
   "metadata": {},
   "outputs": [],
   "source": [
    "gains_mlp = (baseline - np.array(list(d_t.values()))).mean()"
   ]
  },
  {
   "cell_type": "code",
   "execution_count": null,
   "metadata": {},
   "outputs": [],
   "source": [
    "plt.scatter(np.mean(np.array(msps)>0.999,axis=-1)[gains_mlp>0.01],gains_mlp[gains_mlp>0.01], color = 'r')\n",
    "plt.scatter(np.mean(np.array(msps)>0.999,axis=-1)[gains_mlp<=0.01],gains_mlp[gains_mlp<=0.01], color = 'b')\n",
    "plt.axhline(0.01,linestyle='--',color='k')\n",
    "plt.grid()\n",
    "plt.xlabel('Proportion of samples with MSP>0.999')\n",
    "plt.ylabel('NAURC gain of MaxLogit-pNorm over MSP')\n",
    "plt.savefig(os.path.join(FIGS_PATH,'msp_proportion_imagenet.pdf'),format = 'pdf')"
   ]
  }
 ],
 "metadata": {
  "kernelspec": {
   "display_name": "Python 3 (ipykernel)",
   "language": "python",
   "name": "python3"
  },
  "language_info": {
   "codemirror_mode": {
    "name": "ipython",
    "version": 3
   },
   "file_extension": ".py",
   "mimetype": "text/x-python",
   "name": "python",
   "nbconvert_exporter": "python",
   "pygments_lexer": "ipython3",
   "version": "3.10.13"
  }
 },
 "nbformat": 4,
 "nbformat_minor": 4
}
