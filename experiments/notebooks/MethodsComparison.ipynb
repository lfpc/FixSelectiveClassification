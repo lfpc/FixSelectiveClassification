{
 "cells": [
  {
   "cell_type": "markdown",
   "metadata": {},
   "source": [
    "# Import and pre-definitions"
   ]
  },
  {
   "cell_type": "code",
   "execution_count": 1,
   "metadata": {},
   "outputs": [],
   "source": [
    "import os\n",
    "MAIN_PATH = r'/home/luis-felipe'\n",
    "DATA_PATH = r'/data'\n",
    "PATH_MODELS = os.path.join(MAIN_PATH,'torch_models')\n",
    "FIGS_PATH = os.path.join(MAIN_PATH,'results','figs')"
   ]
  },
  {
   "cell_type": "code",
   "execution_count": 2,
   "metadata": {},
   "outputs": [
    {
     "ename": "KeyboardInterrupt",
     "evalue": "",
     "output_type": "error",
     "traceback": [
      "\u001b[0;31m---------------------------------------------------------------------------\u001b[0m",
      "\u001b[0;31mKeyboardInterrupt\u001b[0m                         Traceback (most recent call last)",
      "Cell \u001b[0;32mIn[2], line 1\u001b[0m\n\u001b[0;32m----> 1\u001b[0m \u001b[38;5;28;01mimport\u001b[39;00m \u001b[38;5;21;01mtorch\u001b[39;00m\n\u001b[1;32m      2\u001b[0m \u001b[38;5;28;01mimport\u001b[39;00m \u001b[38;5;21;01mmatplotlib\u001b[39;00m\n\u001b[1;32m      3\u001b[0m \u001b[38;5;28;01mimport\u001b[39;00m \u001b[38;5;21;01mmatplotlib\u001b[39;00m\u001b[38;5;21;01m.\u001b[39;00m\u001b[38;5;21;01mpyplot\u001b[39;00m \u001b[38;5;28;01mas\u001b[39;00m \u001b[38;5;21;01mplt\u001b[39;00m\n",
      "File \u001b[0;32m~/miniconda3/lib/python3.10/site-packages/torch/__init__.py:1187\u001b[0m\n\u001b[1;32m   1180\u001b[0m         __all__\u001b[38;5;241m.\u001b[39mappend(name)\n\u001b[1;32m   1182\u001b[0m \u001b[38;5;66;03m################################################################################\u001b[39;00m\n\u001b[1;32m   1183\u001b[0m \u001b[38;5;66;03m# Import interface functions defined in Python\u001b[39;00m\n\u001b[1;32m   1184\u001b[0m \u001b[38;5;66;03m################################################################################\u001b[39;00m\n\u001b[1;32m   1185\u001b[0m \n\u001b[1;32m   1186\u001b[0m \u001b[38;5;66;03m# needs to be after the above ATen bindings so we can overwrite from Python side\u001b[39;00m\n\u001b[0;32m-> 1187\u001b[0m \u001b[38;5;28;01mfrom\u001b[39;00m \u001b[38;5;21;01m.\u001b[39;00m\u001b[38;5;21;01mfunctional\u001b[39;00m \u001b[38;5;28;01mimport\u001b[39;00m \u001b[38;5;241m*\u001b[39m  \u001b[38;5;66;03m# noqa: F403\u001b[39;00m\n\u001b[1;32m   1190\u001b[0m \u001b[38;5;66;03m################################################################################\u001b[39;00m\n\u001b[1;32m   1191\u001b[0m \u001b[38;5;66;03m# Remove unnecessary members\u001b[39;00m\n\u001b[1;32m   1192\u001b[0m \u001b[38;5;66;03m################################################################################\u001b[39;00m\n\u001b[1;32m   1194\u001b[0m \u001b[38;5;28;01mdel\u001b[39;00m _StorageBase\n",
      "File \u001b[0;32m~/miniconda3/lib/python3.10/site-packages/torch/functional.py:8\u001b[0m\n\u001b[1;32m      6\u001b[0m \u001b[38;5;28;01mfrom\u001b[39;00m \u001b[38;5;21;01mtorch\u001b[39;00m\u001b[38;5;21;01m.\u001b[39;00m\u001b[38;5;21;01m_C\u001b[39;00m \u001b[38;5;28;01mimport\u001b[39;00m _add_docstr\n\u001b[1;32m      7\u001b[0m \u001b[38;5;28;01mimport\u001b[39;00m \u001b[38;5;21;01mtorch\u001b[39;00m\u001b[38;5;21;01m.\u001b[39;00m\u001b[38;5;21;01mbackends\u001b[39;00m\u001b[38;5;21;01m.\u001b[39;00m\u001b[38;5;21;01mopt_einsum\u001b[39;00m \u001b[38;5;28;01mas\u001b[39;00m \u001b[38;5;21;01mopt_einsum\u001b[39;00m\n\u001b[0;32m----> 8\u001b[0m \u001b[38;5;28;01mimport\u001b[39;00m \u001b[38;5;21;01mtorch\u001b[39;00m\u001b[38;5;21;01m.\u001b[39;00m\u001b[38;5;21;01mnn\u001b[39;00m\u001b[38;5;21;01m.\u001b[39;00m\u001b[38;5;21;01mfunctional\u001b[39;00m \u001b[38;5;28;01mas\u001b[39;00m \u001b[38;5;21;01mF\u001b[39;00m\n\u001b[1;32m      9\u001b[0m \u001b[38;5;28;01mfrom\u001b[39;00m \u001b[38;5;21;01m.\u001b[39;00m\u001b[38;5;21;01m_lowrank\u001b[39;00m \u001b[38;5;28;01mimport\u001b[39;00m svd_lowrank, pca_lowrank\n\u001b[1;32m     10\u001b[0m \u001b[38;5;28;01mfrom\u001b[39;00m \u001b[38;5;21;01m.\u001b[39;00m\u001b[38;5;21;01moverrides\u001b[39;00m \u001b[38;5;28;01mimport\u001b[39;00m (\n\u001b[1;32m     11\u001b[0m     has_torch_function, has_torch_function_unary, has_torch_function_variadic,\n\u001b[1;32m     12\u001b[0m     handle_torch_function)\n",
      "File \u001b[0;32m~/miniconda3/lib/python3.10/site-packages/torch/nn/__init__.py:7\u001b[0m\n\u001b[1;32m      1\u001b[0m \u001b[38;5;28;01mfrom\u001b[39;00m \u001b[38;5;21;01m.\u001b[39;00m\u001b[38;5;21;01mmodules\u001b[39;00m \u001b[38;5;28;01mimport\u001b[39;00m \u001b[38;5;241m*\u001b[39m  \u001b[38;5;66;03m# noqa: F403\u001b[39;00m\n\u001b[1;32m      2\u001b[0m \u001b[38;5;28;01mfrom\u001b[39;00m \u001b[38;5;21;01m.\u001b[39;00m\u001b[38;5;21;01mparameter\u001b[39;00m \u001b[38;5;28;01mimport\u001b[39;00m (\n\u001b[1;32m      3\u001b[0m     Parameter \u001b[38;5;28;01mas\u001b[39;00m Parameter,\n\u001b[1;32m      4\u001b[0m     UninitializedParameter \u001b[38;5;28;01mas\u001b[39;00m UninitializedParameter,\n\u001b[1;32m      5\u001b[0m     UninitializedBuffer \u001b[38;5;28;01mas\u001b[39;00m UninitializedBuffer,\n\u001b[1;32m      6\u001b[0m )\n\u001b[0;32m----> 7\u001b[0m \u001b[38;5;28;01mfrom\u001b[39;00m \u001b[38;5;21;01m.\u001b[39;00m\u001b[38;5;21;01mparallel\u001b[39;00m \u001b[38;5;28;01mimport\u001b[39;00m DataParallel \u001b[38;5;28;01mas\u001b[39;00m DataParallel\n\u001b[1;32m      8\u001b[0m \u001b[38;5;28;01mfrom\u001b[39;00m \u001b[38;5;21;01m.\u001b[39;00m \u001b[38;5;28;01mimport\u001b[39;00m init\n\u001b[1;32m      9\u001b[0m \u001b[38;5;28;01mfrom\u001b[39;00m \u001b[38;5;21;01m.\u001b[39;00m \u001b[38;5;28;01mimport\u001b[39;00m functional\n",
      "File \u001b[0;32m~/miniconda3/lib/python3.10/site-packages/torch/nn/parallel/__init__.py:5\u001b[0m\n\u001b[1;32m      3\u001b[0m \u001b[38;5;28;01mfrom\u001b[39;00m \u001b[38;5;21;01m.\u001b[39;00m\u001b[38;5;21;01mdata_parallel\u001b[39;00m \u001b[38;5;28;01mimport\u001b[39;00m DataParallel, data_parallel\n\u001b[1;32m      4\u001b[0m \u001b[38;5;28;01mfrom\u001b[39;00m \u001b[38;5;21;01m.\u001b[39;00m\u001b[38;5;21;01mscatter_gather\u001b[39;00m \u001b[38;5;28;01mimport\u001b[39;00m scatter, gather\n\u001b[0;32m----> 5\u001b[0m \u001b[38;5;28;01mfrom\u001b[39;00m \u001b[38;5;21;01m.\u001b[39;00m\u001b[38;5;21;01mdistributed\u001b[39;00m \u001b[38;5;28;01mimport\u001b[39;00m DistributedDataParallel\n\u001b[1;32m      7\u001b[0m __all__ \u001b[38;5;241m=\u001b[39m [\u001b[38;5;124m'\u001b[39m\u001b[38;5;124mreplicate\u001b[39m\u001b[38;5;124m'\u001b[39m, \u001b[38;5;124m'\u001b[39m\u001b[38;5;124mscatter\u001b[39m\u001b[38;5;124m'\u001b[39m, \u001b[38;5;124m'\u001b[39m\u001b[38;5;124mparallel_apply\u001b[39m\u001b[38;5;124m'\u001b[39m, \u001b[38;5;124m'\u001b[39m\u001b[38;5;124mgather\u001b[39m\u001b[38;5;124m'\u001b[39m, \u001b[38;5;124m'\u001b[39m\u001b[38;5;124mdata_parallel\u001b[39m\u001b[38;5;124m'\u001b[39m,\n\u001b[1;32m      8\u001b[0m            \u001b[38;5;124m'\u001b[39m\u001b[38;5;124mDataParallel\u001b[39m\u001b[38;5;124m'\u001b[39m, \u001b[38;5;124m'\u001b[39m\u001b[38;5;124mDistributedDataParallel\u001b[39m\u001b[38;5;124m'\u001b[39m]\n\u001b[1;32m     10\u001b[0m \u001b[38;5;28;01mdef\u001b[39;00m \u001b[38;5;21mDistributedDataParallelCPU\u001b[39m(\u001b[38;5;241m*\u001b[39margs, \u001b[38;5;241m*\u001b[39m\u001b[38;5;241m*\u001b[39mkwargs):\n",
      "File \u001b[0;32m<frozen importlib._bootstrap>:1027\u001b[0m, in \u001b[0;36m_find_and_load\u001b[0;34m(name, import_)\u001b[0m\n",
      "File \u001b[0;32m<frozen importlib._bootstrap>:1006\u001b[0m, in \u001b[0;36m_find_and_load_unlocked\u001b[0;34m(name, import_)\u001b[0m\n",
      "File \u001b[0;32m<frozen importlib._bootstrap>:688\u001b[0m, in \u001b[0;36m_load_unlocked\u001b[0;34m(spec)\u001b[0m\n",
      "File \u001b[0;32m<frozen importlib._bootstrap_external>:879\u001b[0m, in \u001b[0;36mexec_module\u001b[0;34m(self, module)\u001b[0m\n",
      "File \u001b[0;32m<frozen importlib._bootstrap_external>:975\u001b[0m, in \u001b[0;36mget_code\u001b[0;34m(self, fullname)\u001b[0m\n",
      "File \u001b[0;32m<frozen importlib._bootstrap_external>:1074\u001b[0m, in \u001b[0;36mget_data\u001b[0;34m(self, path)\u001b[0m\n",
      "\u001b[0;31mKeyboardInterrupt\u001b[0m: "
     ]
    }
   ],
   "source": [
    "import torch\n",
    "import matplotlib\n",
    "import matplotlib.pyplot as plt\n",
    "import numpy as np\n",
    "import pandas as pd\n",
    "from collections import defaultdict"
   ]
  },
  {
   "cell_type": "code",
   "execution_count": null,
   "metadata": {},
   "outputs": [],
   "source": [
    "# Define o computador utilizado como cuda (gpu) se existir ou cpu caso contrário\n",
    "print(torch.cuda.is_available())\n",
    "dev = torch.device('cuda') if torch.cuda.is_available() else torch.device('cpu')\n",
    "torch.set_default_dtype(torch.float64)\n",
    "SEED = 42\n",
    "torch.manual_seed(SEED)\n",
    "np.random.seed(SEED)"
   ]
  },
  {
   "cell_type": "code",
   "execution_count": null,
   "metadata": {},
   "outputs": [],
   "source": [
    "import sys\n",
    "sys.path.insert(1, '..')\n",
    "sys.path.insert(1, '../..')\n",
    "\n",
    "import models\n",
    "from utils import measures,metrics\n",
    "from data_utils import upload_logits,split_data\n",
    "import post_hoc"
   ]
  },
  {
   "cell_type": "markdown",
   "metadata": {},
   "source": [
    "# Definitions"
   ]
  },
  {
   "cell_type": "code",
   "execution_count": null,
   "metadata": {},
   "outputs": [],
   "source": [
    "DATASET = 'ImageNet'\n",
    "VAL_SIZE = 0.1 #5000\n",
    "SUB_VAL_SIZE = 1\n",
    "METRIC = metrics.AURC\n",
    "NUM_EXPERIMENTS = 10"
   ]
  },
  {
   "cell_type": "code",
   "execution_count": null,
   "metadata": {},
   "outputs": [],
   "source": [
    "methods = {'MSP':measures.MSP,\n",
    "           'SoftmaxMargin': measures.margin_softmax,\n",
    "           #'Energy': lambda x:torch.logsumexp(x,-1),\n",
    "           'MaxLogit':measures.max_logit,\n",
    "           'LogitsMargin':measures.margin_logits,\n",
    "           'NegativeEntropy':measures.negative_entropy,\n",
    "           'NegativeGini': measures.negative_gini}\n",
    "\n",
    "optm_metrics = {'naurc': metrics.N_AURC,'aurc':metrics.AURC,'auroc':metrics.AUROC,'sac':lambda x,y: metrics.SAC(x,y,0.98), 'ece': metrics.ECE(15)}\n",
    "transforms = ['raw','T_nll','T','p']\n",
    "\n",
    "p_range = torch.arange(10)"
   ]
  },
  {
   "cell_type": "code",
   "execution_count": null,
   "metadata": {},
   "outputs": [],
   "source": [
    "results = {m:{method:{t:defaultdict(list) for t in transforms} for method in methods.keys()} for m in optm_metrics}\n",
    "results_fallback = {m:{method:{t:defaultdict(list) for t in transforms} for method in methods.keys()} for m in optm_metrics}\n",
    "p_list = {m:defaultdict(list) for m in methods.keys()}\n",
    "acc = defaultdict(list)"
   ]
  },
  {
   "cell_type": "code",
   "execution_count": null,
   "metadata": {
    "tags": []
   },
   "outputs": [],
   "source": [
    "seed = SEED\n",
    "for i in range(NUM_EXPERIMENTS):\n",
    "    print(i+1)\n",
    "    for model_arc in models.list_models(DATASET):\n",
    "        #print(model_arc)\n",
    "        with torch.no_grad():\n",
    "            logits_val,labels_val,logits_test,labels_test = split_data.split_logits(*upload_logits(model_arc,DATASET,PATH_MODELS, \n",
    "                                split = 'test', device = dev),VAL_SIZE,seed = seed)\n",
    "            logits_val,labels_val = logits_val[:int(SUB_VAL_SIZE*labels_val.size(0))],labels_val[:int(SUB_VAL_SIZE*labels_val.size(0))]\n",
    "            risk_val = measures.wrong_class(logits_val,labels_val).float()\n",
    "            risk_test = measures.wrong_class(logits_test,labels_test).float()\n",
    "        acc[model_arc].append(1-risk_test.mean().item())\n",
    "        \n",
    "        T_nll = post_hoc.optimize.T(logits_val,labels_val,method = lambda x:x,metric = torch.nn.CrossEntropyLoss())\n",
    "        \n",
    "        for m,method in methods.items():\n",
    "            if m == 'MaxLogit' or m == 'LogitsMargin': T_range = [1]\n",
    "            else: T_range = torch.arange(0.01,2,0.01)\n",
    "            pT = post_hoc.optimize.p_and_T(logits_val,risk_val,method,METRIC,p_range=p_range,T_range=T_range)\n",
    "            if METRIC(method(post_hoc.normalize(logits_val,pT[0]).div(pT[1])),risk_val) > METRIC(measures.MSP(logits_val),risk_val):\n",
    "                p_list[m][model_arc].append('MSP')\n",
    "            else: p_list[m][model_arc].append(pT[0].item())\n",
    "            T = post_hoc.optimize.T(logits_val,risk_val,method,METRIC,T_range = T_range)\n",
    "\n",
    "            for t in transforms:\n",
    "                if t == 'T_nll': fn = lambda z: z.div(T_nll)\n",
    "                elif t == 'T': fn = lambda z: z.div(T)\n",
    "                elif t == 'p': fn = lambda z: post_hoc.normalize(z,pT[0]).div(pT[1])\n",
    "                elif t == 'raw': fn = lambda z: z\n",
    "                Z = fn(logits_test)\n",
    "                fallback = METRIC(method(fn(logits_val)),risk_val) > METRIC(measures.MSP(logits_val),risk_val)\n",
    "                for metric in optm_metrics:\n",
    "                    metric_value = optm_metrics[metric](method(Z),risk_test)\n",
    "                    results[metric][m][t][model_arc].append(metric_value)\n",
    "                    if fallback:\n",
    "                        results_fallback[metric][m][t][model_arc].append(optm_metrics[metric](measures.MSP(logits_test),risk_test)) \n",
    "                    else:\n",
    "                        results_fallback[metric][m][t][model_arc].append(metric_value)\n",
    "    seed = seed+10\n",
    "\n",
    "models_list = list(acc.keys())"
   ]
  },
  {
   "cell_type": "code",
   "execution_count": null,
   "metadata": {},
   "outputs": [],
   "source": [
    "means = {}\n",
    "std = {}\n",
    "acc_mean = {}\n",
    "for metric, d_metric in results.items():\n",
    "    means[metric] = {}\n",
    "    std[metric] = {}\n",
    "    for method, d_method in d_metric.items():\n",
    "        means[metric][method] = {}\n",
    "        std[metric][method] = {}\n",
    "        for transform, d_t in d_method.items():\n",
    "            means[metric][method][transform] = {}\n",
    "            std[metric][method][transform] = {}\n",
    "            for model_arc,v in d_t.items():\n",
    "                means[metric][method][transform][model_arc] = np.mean(v)\n",
    "                std[metric][method][transform][model_arc] = np.std(v)\n",
    "                acc_mean[model_arc] = np.mean(acc[model_arc])"
   ]
  },
  {
   "cell_type": "code",
   "execution_count": null,
   "metadata": {},
   "outputs": [],
   "source": [
    "baseline = np.array(list(results['naurc']['MSP']['raw'].values()))"
   ]
  },
  {
   "cell_type": "markdown",
   "metadata": {},
   "source": [
    "## Figure 2"
   ]
  },
  {
   "cell_type": "code",
   "execution_count": null,
   "metadata": {},
   "outputs": [],
   "source": []
  },
  {
   "cell_type": "markdown",
   "metadata": {},
   "source": [
    "## Figure 3"
   ]
  },
  {
   "cell_type": "code",
   "execution_count": null,
   "metadata": {},
   "outputs": [],
   "source": [
    "from scipy.stats import spearmanr,mode\n",
    "optimal_naurc = np.array(list(results_fallback['naurc']['MaxLogit']['p'].values())).mean(-1)\n",
    "p_list_mode = mode(np.array(list(p_list['MaxLogit'].values())),-1,keepdims = False).mode"
   ]
  },
  {
   "cell_type": "code",
   "execution_count": null,
   "metadata": {},
   "outputs": [],
   "source": [
    "fig,axes = plt.subplots(1,2,figsize = (10,4), sharey = True,sharex = True)\n",
    "fig.tight_layout()\n",
    "\n",
    "scatter = axes[0].scatter(np.array(list(acc.values())).mean(-1),np.array(list(results_fallback['naurc']['MSP']['raw'].values())).mean(-1),c = [0 if x=='MSP' else x for x in p_list_mode])\n",
    "axes[1].scatter(np.array(list(acc.values())).mean(-1),optimal_naurc,c = [0 if x=='MSP' else x for x in p_list_mode])\n",
    "axes[0].set_title(fr\"Baseline - $\\rho$={spearmanr(np.array(list(acc.values())).mean(-1),np.array(list(results_fallback['naurc']['MSP']['raw'].values())).mean(-1)).correlation:.4f}\")\n",
    "axes[1].set_title(fr\"Optimized- $\\rho$={spearmanr(np.array(list(acc.values())).mean(-1),optimal_naurc).correlation:.4f}\")\n",
    "axes[0].set_ylabel('NAURC')\n",
    "for ax in axes:\n",
    "    ax.grid()\n",
    "    ax.set_xlabel('Accuracy')\n",
    "    for item in ([ax.title, ax.xaxis.label, ax.yaxis.label] +\n",
    "             ax.get_xticklabels() + ax.get_yticklabels()):\n",
    "        item.set_fontsize(15)\n",
    "axes[0].set_xticks(axes[0].get_xticks()[1:-2])\n",
    "#axes[0].legend()\n",
    "l = scatter.legend_elements()[1]\n",
    "for n,i in enumerate(l):\n",
    "    l[n] = 'p = '+i \n",
    "l[0] = 'MSP'\n",
    "\n",
    "legend1 = axes[1].legend(scatter.legend_elements()[0], l, prop={'size': 13})\n",
    "\n",
    "plt.savefig(os.path.join(FIGS_PATH,'NAURC.pdf'), transparent = True, format = 'pdf',bbox_inches = 'tight')\n",
    "plt.show()"
   ]
  },
  {
   "cell_type": "markdown",
   "metadata": {
    "jp-MarkdownHeadingCollapsed": true,
    "tags": []
   },
   "source": [
    "## Table 1"
   ]
  },
  {
   "cell_type": "code",
   "execution_count": null,
   "metadata": {},
   "outputs": [],
   "source": [
    "for model_arc,model_name in {'efficientnetv2_xl': 'EfficientNet-V2-XL', 'vgg16':'VGG16'}.items():\n",
    "    print(r'\\midrule \\multirow{6}{*}{' + model_name + '}' )\n",
    "    for method, d_method in results_fallback['naurc'].items():\n",
    "        string = f'& {method}'\n",
    "        for transform, d_t in d_method.items():\n",
    "            if 'T' in transform and 'Logit' in method:\n",
    "                string += f\" & -\"\n",
    "            else: string += f\" & {np.mean(d_t[model_arc],-1):.4f}\"+r' {\\footnotesize $\\pm$'+f\"{np.std(d_t[model_arc],-1):.4f}\" + \"}\"\n",
    "        print(string + r' \\\\')\n",
    "            "
   ]
  },
  {
   "cell_type": "markdown",
   "metadata": {
    "tags": []
   },
   "source": [
    "## Table 2"
   ]
  },
  {
   "cell_type": "code",
   "execution_count": null,
   "metadata": {},
   "outputs": [],
   "source": [
    "for method, d_method in results_fallback['naurc'].items():\n",
    "    string = f'{method}'\n",
    "    for transform, d_t in d_method.items():\n",
    "        if 'T' in transform and 'Logit' in method:\n",
    "            string += f\" & -\"\n",
    "        #elif post_hoc.significant(baseline - np.array(list(d_t.values()))).mean() < 0.00001 and post_hoc.significant(baseline - np.array(list(d_t.values()))).mean(0).std()<0.0001:\n",
    "        #    string += r\" & 0.0 {\\footnotesize $\\pm$ 0.0}\"\n",
    "        else: string += f\" & {post_hoc.significant(baseline - np.array(list(d_t.values()))).mean():.5f}\"+r' {\\footnotesize $\\pm$'+f\"{post_hoc.significant(baseline - np.array(list(d_t.values()))).mean(0).std():.5f}\"+\"}\"\n",
    "    print(string + r' \\\\')"
   ]
  },
  {
   "cell_type": "code",
   "execution_count": null,
   "metadata": {},
   "outputs": [],
   "source": [
    "baseline = d_naurc['MSP']\n",
    "d_optimal = {m:1 for m in models_list}\n",
    "d_optimal_method = {m:None for m in models_list}\n",
    "gain = {}\n",
    "gain_T = {}\n",
    "gain_T_nll = {}\n",
    "gain_p = {}\n",
    "for method in methods:\n",
    "    gain[method] = np.array(list(baseline.values()))-np.array(list(d_naurc[method].values()))\n",
    "    gain_T[method] = np.array(list(baseline.values()))-np.array(list(d_naurc_T[method].values()))\n",
    "    gain_T_nll[method] = np.array(list(baseline.values()))-np.array(list(d_naurc_T_nll[method].values()))\n",
    "    gain_p[method] = np.array(list(baseline.values()))-np.array(list(d_naurc_p[method].values()))\n",
    "    for m in models_list:\n",
    "        for t,d in {'base':d_naurc,'p':d_naurc_p,'T':d_naurc_T,'T_nll':d_naurc_T_nll}.items():\n",
    "            if d[method][m] < d_optimal[m]:\n",
    "                d_optimal[m] = d[method][m]\n",
    "                d_optimal_method[m] = f'{t} - {method}'\n",
    "\n",
    "gains_opt = np.array(list(baseline.values()))-np.array(list(d_optimal.values()))"
   ]
  },
  {
   "cell_type": "code",
   "execution_count": null,
   "metadata": {},
   "outputs": [],
   "source": [
    "for m,gains in gain_p.items():\n",
    "    if m == 'Energy':continue\n",
    "    print(f'{m}, {np.mean(post_hoc.significant(gains, 0.01)):.5f}')"
   ]
  },
  {
   "cell_type": "code",
   "execution_count": null,
   "metadata": {},
   "outputs": [],
   "source": [
    "for m,gains in gain_p.items():\n",
    "    if m == 'Energy':continue\n",
    "    print(f'{m}, {np.std(post_hoc.significant(gains, 0.01)):.5f}')"
   ]
  },
  {
   "cell_type": "code",
   "execution_count": null,
   "metadata": {},
   "outputs": [],
   "source": [
    "plt.scatter(norms_l2,gain_p['MaxLogit'])\n",
    "plt.axhline(0.01,linestyle='--',color='k')\n",
    "plt.grid()\n",
    "plt.xlabel('MSP var')\n",
    "plt.ylabel('MaxLogit-p Gain')"
   ]
  },
  {
   "cell_type": "code",
   "execution_count": null,
   "metadata": {},
   "outputs": [],
   "source": [
    "plt.scatter(np.mean(np.array(msps)>0.999,axis=-1)[gain_p['MaxLogit']>0.01],gain_p['MaxLogit'][gain_p['MaxLogit']>0.01], color = 'r')\n",
    "plt.scatter(np.mean(np.array(msps)>0.999,axis=-1)[gain_p['MaxLogit']<=0.01],gain_p['MaxLogit'][gain_p['MaxLogit']<=0.01], color = 'b')\n",
    "#plt.scatter(np.mean(msps>0.999,axis=-1),gain_p['MaxLogit'], c = list(d_naurc['MSP'].values()), cmap = 'coolwarm')\n",
    "plt.axhline(0.01,linestyle='--',color='k')\n",
    "plt.grid()\n",
    "plt.xlabel('Proportion of samples with MSP>0.999')\n",
    "plt.ylabel('NAURC gain of MaxLogit-pNorm over MSP')\n",
    "plt.savefig(os.path.join(FIGS_PATH,'msp_proportion_imagenet.pdf'),format = 'pdf')"
   ]
  },
  {
   "cell_type": "code",
   "execution_count": null,
   "metadata": {},
   "outputs": [],
   "source": [
    "args = np.argsort(gain_p['MaxLogit'])[::-1]\n",
    "\n",
    "\n",
    "for method in ['MSP']:\n",
    "    if method == 'Energy': continue\n",
    "    plt.plot(range(1,1+len(models_list)),gain_T_nll[method][args], label = method+'-TS-NLL')\n",
    "for method in ['LogitsMargin']:\n",
    "    if method == 'Energy': continue\n",
    "    plt.plot(range(1,1+len(models_list)),gain[method][args], label = method)\n",
    "for method in ['MSP']:\n",
    "    if method == 'Energy': continue\n",
    "    plt.plot(range(1,1+len(models_list)),gain_T[method][args], label = method+'-TS-AURC')\n",
    "for method in ['NegativeEntropy','SoftmaxMargin','NegativeGini','MSP','MaxLogit']:\n",
    "    label = method+'-pNorm'\n",
    "    if method == 'Energy': continue\n",
    "    plt.plot(range(1,1+len(models_list)),gain_p[method][args], label = label)\n",
    "#plt.plot(gain['MaxLogit']*100,gain['MaxLogit']*100,'k--', label = 'MaxLogit')\n",
    "plt.axhline(0.01,linestyle='--', color = 'k')\n",
    "plt.legend()\n",
    "plt.grid()\n",
    "plt.xlabel('Models')\n",
    "plt.ylabel('NAURC gain over MSP')\n",
    "plt.xticks()\n",
    "plt.savefig(os.path.join(FIGS_PATH,'gains_methods.pdf'),format = 'pdf')\n",
    "#plt.show()\n"
   ]
  },
  {
   "cell_type": "code",
   "execution_count": null,
   "metadata": {},
   "outputs": [],
   "source": [
    "#df = pd.DataFrame()\n",
    "d_efficientnet = {}\n",
    "m = 'vgg16'\n",
    "for t,d in {'Raw':d_auroc,'TS-NLL':d_auroc_T_nll,'TS-AURC':d_auroc_T,'p-norm':d_auroc_p}.items():\n",
    "    d1 = {}\n",
    "    for method in methods:\n",
    "        if method == 'Energy': continue\n",
    "        d1[method] = d[method][m] \n",
    "    d_efficientnet[t] = d1"
   ]
  },
  {
   "cell_type": "code",
   "execution_count": null,
   "metadata": {},
   "outputs": [],
   "source": [
    "df = (pd.DataFrame(d_efficientnet))\n",
    "df"
   ]
  },
  {
   "cell_type": "code",
   "execution_count": null,
   "metadata": {},
   "outputs": [],
   "source": [
    "print(df.to_latex(float_format=\"{:.4f}\".format))"
   ]
  },
  {
   "cell_type": "code",
   "execution_count": null,
   "metadata": {},
   "outputs": [],
   "source": [
    "epsilon_list = np.arange(0,0.05,0.001)\n",
    "from collections import defaultdict\n",
    "apgs = defaultdict(list)\n",
    "for m,gains in gain_p.items():\n",
    "    if m == 'Energy':continue\n",
    "    for epsilon in epsilon_list:\n",
    "        apgs[m].append(np.mean(post_hoc.significant(gains, epsilon)))"
   ]
  },
  {
   "cell_type": "code",
   "execution_count": null,
   "metadata": {},
   "outputs": [],
   "source": [
    "for m,apg in apgs.items():\n",
    "    if m=='Entropy' or m=='Gini': m='Negative'+m\n",
    "    plt.plot(epsilon_list,apg, label = m+'-pNorm')\n",
    "plt.xlabel(r'$\\epsilon$')\n",
    "plt.ylabel('APG-NAURC')\n",
    "plt.grid()\n",
    "plt.legend()\n",
    "plt.savefig(os.path.join(FIGS_PATH,'epsilon.pdf'),format = 'pdf',transparent = True,bbox_inches = 'tight')"
   ]
  },
  {
   "cell_type": "code",
   "execution_count": null,
   "metadata": {},
   "outputs": [],
   "source": [
    "from scipy.stats import spearmanr"
   ]
  },
  {
   "cell_type": "code",
   "execution_count": null,
   "metadata": {},
   "outputs": [],
   "source": [
    "d_optimal_aurc = {m:1 for m in models_list}\n",
    "d_optimal_method = {m:None for m in models_list}\n",
    "for method in methods:\n",
    "    for m in models_list:\n",
    "        for t,d in {'base':d_aurc,'p':d_aurc_p,'T':d_aurc_T}.items():\n",
    "            if d[method][m] < d_optimal_aurc[m]:\n",
    "                d_optimal_aurc[m] = d[method][m]\n",
    "                d_optimal_method[m] = f'{t} - {method}'\n",
    "baseline_aurc = d_aurc['MSP']"
   ]
  },
  {
   "cell_type": "code",
   "execution_count": null,
   "metadata": {},
   "outputs": [],
   "source": [
    "fig,axes = plt.subplots(1,2,figsize = (10,4), sharey = True)\n",
    "fig.tight_layout()\n",
    "scatter = axes[0].scatter(np.array(list(acc.values())),np.array(list(baseline_aurc.values())),c = list(optimal_p['MaxLogit'].values()))\n",
    "axes[1].scatter(acc.values(),d_optimal_aurc.values(),c = list(optimal_p['MaxLogit'].values()))\n",
    "axes[0].set_title(fr'Baseline - $\\rho$={spearmanr(np.array(list(acc.values())),np.array(list(baseline_aurc.values()))).correlation:.4f}')\n",
    "axes[1].set_title(fr'Optimized- $\\rho$={spearmanr(np.array(list(acc.values())),np.array(list(d_optimal_aurc.values()))).correlation:.4f}')\n",
    "axes[0].set_ylabel('AURC')\n",
    "for ax in axes:\n",
    "    ax.grid()\n",
    "    ax.set_xlabel('Accuracy')\n",
    "#axes[0].legend()\n",
    "l = scatter.legend_elements()[1]\n",
    "for n,i in enumerate(l):\n",
    "    l[n] = 'p = '+i \n",
    "l[0] = 'MSP'\n",
    "\n",
    "legend1 = axes[0].legend(scatter.legend_elements()[0], l)\n",
    "\n",
    "plt.savefig(os.path.join(FIGS_PATH,'AURC.pdf'), transparent = True, format = 'pdf',bbox_inches = 'tight')\n",
    "plt.show()"
   ]
  },
  {
   "cell_type": "code",
   "execution_count": null,
   "metadata": {},
   "outputs": [],
   "source": [
    "d_optimal_naurc = {m:1 for m in models_list}\n",
    "d_optimal_method = {m:None for m in models_list}\n",
    "for method in methods:\n",
    "    for m in models_list:\n",
    "        for t,d in {'base':d_naurc,'p':d_naurc_p,'T':d_naurc_T}.items():\n",
    "            if d[method][m] < d_optimal_naurc[m]:\n",
    "                d_optimal_naurc[m] = d[method][m]\n",
    "                d_optimal_method[m] = f'{t} - {method}'\n",
    "baseline_naurc = d_naurc['MSP']"
   ]
  },
  {
   "cell_type": "code",
   "execution_count": null,
   "metadata": {},
   "outputs": [],
   "source": [
    "fig,axes = plt.subplots(1,2,figsize = (10,4), sharey = True)\n",
    "fig.tight_layout()\n",
    "scatter = axes[0].scatter(np.array(list(acc.values())),np.array(list(baseline_naurc.values())),c = list(optimal_p['MaxLogit'].values()))\n",
    "axes[1].scatter(acc.values(),d_optimal_naurc.values(),c = list(optimal_p['MaxLogit'].values()))\n",
    "axes[0].set_title(fr'Baseline - $\\rho$={spearmanr(np.array(list(acc.values())),np.array(list(baseline_naurc.values()))).correlation:.4f}')\n",
    "axes[1].set_title(fr'Optimized- $\\rho$={spearmanr(np.array(list(acc.values())),np.array(list(d_optimal_naurc.values()))).correlation:.4f}')\n",
    "axes[0].set_ylabel('NAURC')\n",
    "for ax in axes:\n",
    "    ax.grid()\n",
    "    ax.set_xlabel('Accuracy')\n",
    "axes[0].legend()\n",
    "l = scatter.legend_elements()[1]\n",
    "for n,i in enumerate(l):\n",
    "    l[n] = 'p = '+i \n",
    "l[0] = 'MSP'\n",
    "legend1 = axes[0].legend(scatter.legend_elements()[0], l)\n",
    "\n",
    "plt.savefig(os.path.join(FIGS_PATH,'NAURC.pdf'), transparent = True, format = 'pdf',bbox_inches = 'tight')"
   ]
  },
  {
   "cell_type": "code",
   "execution_count": null,
   "metadata": {},
   "outputs": [],
   "source": []
  },
  {
   "cell_type": "code",
   "execution_count": null,
   "metadata": {},
   "outputs": [],
   "source": [
    "from collections import defaultdict"
   ]
  },
  {
   "cell_type": "code",
   "execution_count": null,
   "metadata": {},
   "outputs": [],
   "source": [
    "d = defaultdict(list)\n",
    "for model in models_list:\n",
    "    d[model].append(acc[model])\n",
    "    d[model].append(d_naurc['MSP'][model])\n",
    "    d[model].append(d_naurc_T_nll['MSP'][model])\n",
    "    d[model].append(d_naurc_T['MSP'][model])\n",
    "    d[model].append(d_naurc['LogitsMargin'][model])\n",
    "    d[model].append(str(d_naurc_p['MSP'][model])[0:6] +' - ' + str(p_list['MSP'][model]))\n",
    "    d[model].append(str(d_naurc_p['MaxLogit'][model])[0:6] +' - ' + str(p_list['MaxLogit'][model]))"
   ]
  },
  {
   "cell_type": "code",
   "execution_count": null,
   "metadata": {},
   "outputs": [],
   "source": [
    "df = pd.DataFrame(d).transpose()\n",
    "df"
   ]
  },
  {
   "cell_type": "code",
   "execution_count": null,
   "metadata": {},
   "outputs": [],
   "source": [
    "print(df.to_latex(float_format=\"{:.4f}\".format))"
   ]
  },
  {
   "cell_type": "code",
   "execution_count": null,
   "metadata": {},
   "outputs": [],
   "source": []
  }
 ],
 "metadata": {
  "kernelspec": {
   "display_name": "Python 3 (ipykernel)",
   "language": "python",
   "name": "python3"
  },
  "language_info": {
   "codemirror_mode": {
    "name": "ipython",
    "version": 3
   },
   "file_extension": ".py",
   "mimetype": "text/x-python",
   "name": "python",
   "nbconvert_exporter": "python",
   "pygments_lexer": "ipython3",
   "version": "3.10.13"
  }
 },
 "nbformat": 4,
 "nbformat_minor": 4
}
