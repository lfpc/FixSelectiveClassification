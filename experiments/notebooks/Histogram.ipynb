{
 "cells": [
  {
   "attachments": {},
   "cell_type": "markdown",
   "metadata": {},
   "source": [
    "# Import and pre-definitions"
   ]
  },
  {
   "cell_type": "code",
   "execution_count": null,
   "metadata": {},
   "outputs": [],
   "source": [
    "import os\n",
    "MAIN_PATH = r'/home/luis-felipe'\n",
    "DATA_PATH = os.path.join(MAIN_PATH,'data')\n",
    "PATH_MODELS = os.path.join(MAIN_PATH,'torch_models')\n",
    "FIGS_PATH = os.path.join(MAIN_PATH,'results','figs')"
   ]
  },
  {
   "cell_type": "code",
   "execution_count": null,
   "metadata": {},
   "outputs": [],
   "source": [
    "import torch\n",
    "import matplotlib\n",
    "import matplotlib.pyplot as plt\n",
    "import numpy as np"
   ]
  },
  {
   "cell_type": "code",
   "execution_count": null,
   "metadata": {},
   "outputs": [],
   "source": [
    "# Define o computador utilizado como cuda (gpu) se existir ou cpu caso contrário\n",
    "print(torch.cuda.is_available())\n",
    "dev = torch.device('cuda') if torch.cuda.is_available() else torch.device('cpu')\n",
    "torch.set_default_dtype(torch.float64)\n",
    "SEED = 42\n",
    "torch.manual_seed(SEED)\n",
    "np.random.seed(SEED)"
   ]
  },
  {
   "cell_type": "code",
   "execution_count": null,
   "metadata": {},
   "outputs": [],
   "source": [
    "import sys\n",
    "sys.path.insert(1, '..')\n",
    "sys.path.insert(1, '../..')\n",
    "\n",
    "import models\n",
    "from utils import measures,metrics\n",
    "from data_utils import upload_logits,split_data\n",
    "import post_hoc"
   ]
  },
  {
   "attachments": {},
   "cell_type": "markdown",
   "metadata": {},
   "source": [
    "# Evaluate logits"
   ]
  },
  {
   "cell_type": "code",
   "execution_count": null,
   "metadata": {},
   "outputs": [],
   "source": [
    "MODEL_ARC = 'wide_resnet50_2'\n",
    "DATASET = 'ImageNet'"
   ]
  },
  {
   "cell_type": "code",
   "execution_count": null,
   "metadata": {},
   "outputs": [],
   "source": [
    "logits,labels = upload_logits(MODEL_ARC,DATASET,PATH_MODELS, \n",
    "                            split = 'test', device = dev,data_dir = DATA_PATH)\n",
    "risk = measures.wrong_class(logits,labels).float()"
   ]
  },
  {
   "cell_type": "code",
   "execution_count": null,
   "metadata": {},
   "outputs": [],
   "source": [
    "naurc_i = metrics.N_AURC(risk,measures.MSP(logits))\n",
    "naurc_p = metrics.N_AURC(risk,post_hoc.MaxLogit_p(logits,risk = risk))\n",
    "naurc_pT = metrics.N_AURC(risk,post_hoc.MSP_p(logits,risk = risk))"
   ]
  },
  {
   "cell_type": "markdown",
   "metadata": {},
   "source": [
    "# Histograms"
   ]
  },
  {
   "cell_type": "markdown",
   "metadata": {},
   "source": [
    "## Baseline"
   ]
  },
  {
   "cell_type": "code",
   "execution_count": null,
   "metadata": {},
   "outputs": [],
   "source": [
    "plt.figure(figsize=(8,6))\n",
    "plt.hist(measures.MSP(logits).cpu().numpy(),bins = 'auto', density = True)\n",
    "plt.xlabel('MSP')\n",
    "plt.ylabel('Density')\n",
    "plt.title(f'NAURC gain = {naurc_i-naurc_p:.4f}')\n",
    "plt.show()"
   ]
  },
  {
   "cell_type": "markdown",
   "metadata": {},
   "source": [
    "## Optimized"
   ]
  },
  {
   "cell_type": "markdown",
   "metadata": {},
   "source": [
    "### MSP-p"
   ]
  },
  {
   "cell_type": "code",
   "execution_count": null,
   "metadata": {},
   "outputs": [],
   "source": [
    "plt.figure(figsize=(8,6))\n",
    "plt.hist(post_hoc.MSP_p(logits,risk = risk).cpu().numpy(),bins = 'auto', density = True)\n",
    "plt.xlabel('MSP')\n",
    "plt.ylabel('Density')\n",
    "plt.title(f'NAURC gain = {naurc_i-naurc_pT:.4f}')\n",
    "plt.show()"
   ]
  },
  {
   "cell_type": "markdown",
   "metadata": {},
   "source": [
    "### MaxLogit-p"
   ]
  },
  {
   "cell_type": "code",
   "execution_count": null,
   "metadata": {},
   "outputs": [],
   "source": [
    "plt.figure(figsize=(8,6))\n",
    "plt.hist(post_hoc.MaxLogit_p(logits,risk = risk).cpu().numpy(),bins = 'auto', density = True)\n",
    "plt.xlabel('MSP')\n",
    "plt.ylabel('Density')\n",
    "plt.title(f'NAURC gain = {naurc_i-naurc_p:.4f}')\n",
    "plt.show()"
   ]
  },
  {
   "cell_type": "code",
   "execution_count": null,
   "metadata": {},
   "outputs": [],
   "source": []
  }
 ],
 "metadata": {
  "kernelspec": {
   "display_name": "base",
   "language": "python",
   "name": "python3"
  },
  "language_info": {
   "codemirror_mode": {
    "name": "ipython",
    "version": 3
   },
   "file_extension": ".py",
   "mimetype": "text/x-python",
   "name": "python",
   "nbconvert_exporter": "python",
   "pygments_lexer": "ipython3",
   "version": "3.10.10"
  },
  "orig_nbformat": 4
 },
 "nbformat": 4,
 "nbformat_minor": 2
}
