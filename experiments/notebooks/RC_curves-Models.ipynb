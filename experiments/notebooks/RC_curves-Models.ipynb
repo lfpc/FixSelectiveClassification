{
 "cells": [
  {
   "cell_type": "markdown",
   "metadata": {},
   "source": [
    "# Import and pre-definitions"
   ]
  },
  {
   "cell_type": "code",
   "execution_count": null,
   "metadata": {},
   "outputs": [],
   "source": [
    "import os\n",
    "MAIN_PATH = r'/home/luis-felipe'\n",
    "DATA_PATH = os.path.join(MAIN_PATH,'data')\n",
    "PATH_MODELS = os.path.join(MAIN_PATH,'torch_models')\n",
    "FIGS_PATH = os.path.join(MAIN_PATH,'results','figs')"
   ]
  },
  {
   "cell_type": "code",
   "execution_count": null,
   "metadata": {},
   "outputs": [],
   "source": [
    "import torch\n",
    "import matplotlib\n",
    "import matplotlib.pyplot as plt\n",
    "import numpy as np"
   ]
  },
  {
   "cell_type": "code",
   "execution_count": null,
   "metadata": {},
   "outputs": [],
   "source": [
    "# Define o computador utilizado como cuda (gpu) se existir ou cpu caso contrário\n",
    "print(torch.cuda.is_available())\n",
    "dev = torch.device('cuda') if torch.cuda.is_available() else torch.device('cpu')\n",
    "torch.set_default_dtype(torch.float64)\n",
    "SEED = 42\n",
    "torch.manual_seed(SEED)\n",
    "np.random.seed(SEED)"
   ]
  },
  {
   "cell_type": "code",
   "execution_count": null,
   "metadata": {},
   "outputs": [],
   "source": [
    "import sys\n",
    "sys.path.insert(1, '..')\n",
    "sys.path.insert(1, '../..')\n",
    "\n",
    "import models\n",
    "from utils import measures,metrics\n",
    "from data_utils import upload_logits,split_data\n",
    "import post_hoc"
   ]
  },
  {
   "cell_type": "markdown",
   "metadata": {},
   "source": [
    "# Evaluate logits and metrics"
   ]
  },
  {
   "cell_type": "code",
   "execution_count": null,
   "metadata": {},
   "outputs": [],
   "source": [
    "MODELS = ['efficientnetv2_xl', 'vit_l_16_384','vit_b_32_sam']\n",
    "DATASET = 'ImageNet'\n",
    "VAL_SIZE = 0.1 #5000\n",
    "METRIC_opt = metrics.AURC\n",
    "METRIC_plt = metrics.AUROC"
   ]
  },
  {
   "cell_type": "code",
   "execution_count": null,
   "metadata": {},
   "outputs": [],
   "source": [
    "RCs = {}\n",
    "auroc = {}\n",
    "RCs_baseline = {}\n",
    "auroc_baseline = {}\n",
    "\n",
    "for model in MODELS:\n",
    "    logits_val,labels_val,logits_test,labels_test = split_data.split_logits(*upload_logits(model,DATASET,PATH_MODELS, \n",
    "                                split = 'test', device = dev),VAL_SIZE,SEED)\n",
    "    risk_val = measures.wrong_class(logits_val,labels_val).float()\n",
    "    risk_test = measures.wrong_class(logits_test,labels_test).float()\n",
    "    ml_p = post_hoc.MaxLogit_p(logits_test,metric = METRIC_opt,msp_fallback = True,risk = risk_val, logits_opt = logits_val)\n",
    "    baseline = measures.MSP(logits_test)\n",
    "    RCs[model] = metrics.RC_curve(risk_test,ml_p)\n",
    "    auroc[model] = METRIC_plt(risk_test,ml_p)\n",
    "    RCs_baseline[model] = metrics.RC_curve(risk_test,baseline)\n",
    "    auroc_baseline[model] = METRIC_plt(risk_test,baseline)\n"
   ]
  },
  {
   "cell_type": "markdown",
   "metadata": {},
   "source": [
    "# Plot"
   ]
  },
  {
   "cell_type": "code",
   "execution_count": null,
   "metadata": {},
   "outputs": [],
   "source": [
    "fig,axes = plt.subplots(1,2,sharey = True,figsize = (15,4))\n",
    "fig.tight_layout()\n",
    "\n",
    "colors = {'efficientnetv2_xl':'red', 'vit_l_16_384':'blue','vit_b_32_sam':'green'}\n",
    "names = {'efficientnetv2_xl':'EfficientNet-V2-XL-21k-ft1k', 'vit_l_16_384':'ViT-B/32-224-SAM','vit_b_32_sam':'ViT-L/16-384'}\n",
    "\n",
    "for n in MODELS:\n",
    "    axes[0].plot(*RCs_baseline[n],color = colors[n],\n",
    "              label  = names[n]+ f' (AUROC = {auroc_baseline[n]:.4f}) ')\n",
    "    axes[1].plot(*RCs[n],color = colors[n],\n",
    "              label  = names[n]+ f' (AUROC = {auroc[n]:.4f}) ')\n",
    "axes[0].set_title('Baseline')\n",
    "axes[1].set_title('Optimized')\n",
    "axes[0].set_ylabel('Risk (Top-1 ImageNet Error)')\n",
    "for ax in axes:\n",
    "    ax.grid()\n",
    "    ax.legend(prop={'size': 13})\n",
    "    ax.set_xlabel('Coverage')\n",
    "    for item in ([ax.title, ax.xaxis.label, ax.yaxis.label] +\n",
    "             ax.get_xticklabels() + ax.get_yticklabels()):\n",
    "        item.set_fontsize(13)\n",
    "    \n",
    "plt.savefig(os.path.join(FIGS_PATH, f'RCs-models.pdf'), transparent = True, format = 'pdf',bbox_inches = 'tight')\n",
    "plt.show()"
   ]
  },
  {
   "cell_type": "code",
   "execution_count": null,
   "metadata": {},
   "outputs": [],
   "source": []
  }
 ],
 "metadata": {
  "kernelspec": {
   "display_name": "Python 3 (ipykernel)",
   "language": "python",
   "name": "python3"
  },
  "language_info": {
   "codemirror_mode": {
    "name": "ipython",
    "version": 3
   },
   "file_extension": ".py",
   "mimetype": "text/x-python",
   "name": "python",
   "nbconvert_exporter": "python",
   "pygments_lexer": "ipython3",
   "version": "3.11.5"
  }
 },
 "nbformat": 4,
 "nbformat_minor": 4
}
