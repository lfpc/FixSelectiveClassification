{
 "cells": [
  {
   "cell_type": "markdown",
   "metadata": {},
   "source": [
    "# Import and pre-definitions"
   ]
  },
  {
   "cell_type": "code",
   "execution_count": 1,
   "metadata": {},
   "outputs": [],
   "source": [
    "import os\n",
    "MAIN_PATH = r'/home/luis-felipe'\n",
    "DATA_PATH = os.path.join(MAIN_PATH,'data')\n",
    "PATH_MODELS = os.path.join(MAIN_PATH,'torch_models')\n",
    "FIGS_PATH = os.path.join(MAIN_PATH,'results','figs')"
   ]
  },
  {
   "cell_type": "code",
   "execution_count": 2,
   "metadata": {},
   "outputs": [],
   "source": [
    "import torch\n",
    "import matplotlib\n",
    "import matplotlib.pyplot as plt\n",
    "import numpy as np"
   ]
  },
  {
   "cell_type": "code",
   "execution_count": 3,
   "metadata": {},
   "outputs": [
    {
     "name": "stdout",
     "output_type": "stream",
     "text": [
      "True\n"
     ]
    }
   ],
   "source": [
    "# Define o computador utilizado como cuda (gpu) se existir ou cpu caso contrário\n",
    "print(torch.cuda.is_available())\n",
    "dev = torch.device('cuda') if torch.cuda.is_available() else torch.device('cpu')\n",
    "torch.set_default_dtype(torch.float64)\n",
    "SEED = 42\n",
    "torch.manual_seed(SEED)\n",
    "np.random.seed(SEED)"
   ]
  },
  {
   "cell_type": "code",
   "execution_count": 4,
   "metadata": {},
   "outputs": [],
   "source": [
    "import sys\n",
    "sys.path.insert(1, '..')\n",
    "sys.path.insert(1, '../..')\n",
    "\n",
    "import models\n",
    "from utils import measures,metrics\n",
    "from data_utils import upload_logits,split_data\n",
    "import post_hoc"
   ]
  },
  {
   "cell_type": "markdown",
   "metadata": {},
   "source": [
    "# Evaluate logits"
   ]
  },
  {
   "cell_type": "code",
   "execution_count": 5,
   "metadata": {},
   "outputs": [],
   "source": [
    "DATASET = 'ImageNet'\n",
    "VAL_SIZE = 0.1 #5000"
   ]
  },
  {
   "cell_type": "code",
   "execution_count": 6,
   "metadata": {},
   "outputs": [],
   "source": [
    "METRIC = metrics.AURC\n",
    "target_accs = 1-np.arange(0.01,0.15,0.01)"
   ]
  },
  {
   "cell_type": "markdown",
   "metadata": {},
   "source": [
    "# Calculate SAC"
   ]
  },
  {
   "cell_type": "code",
   "execution_count": 7,
   "metadata": {},
   "outputs": [],
   "source": [
    "d_baseline_sac = {c:{} for c in target_accs}\n",
    "d_sac_p = {c:{} for c in target_accs}\n",
    "d_sac_opt = {c:{} for c in target_accs}\n",
    "d_baseline_naurc = {}\n",
    "d_naurc_p = {}\n",
    "d_naurc_opt = {}\n",
    "acc = {}\n",
    "p_list = {}"
   ]
  },
  {
   "cell_type": "code",
   "execution_count": 8,
   "metadata": {
    "tags": []
   },
   "outputs": [
    {
     "name": "stdout",
     "output_type": "stream",
     "text": [
      "alexnet\n",
      "convnext_base\n",
      "convnext_large\n",
      "convnext_small\n",
      "convnext_tiny\n",
      "deeplabv3_mobilenet_v3_large\n",
      "cant find\n",
      "deeplabv3_resnet101\n",
      "cant find\n",
      "deeplabv3_resnet50\n",
      "cant find\n",
      "densenet121\n",
      "densenet161\n",
      "densenet169\n",
      "densenet201\n",
      "efficientnet_b0\n",
      "efficientnet_b1\n",
      "efficientnet_b2\n",
      "efficientnet_b3\n",
      "efficientnet_b4\n",
      "efficientnet_b5\n",
      "efficientnet_b6\n",
      "efficientnet_b7\n",
      "efficientnet_v2_l\n",
      "efficientnet_v2_m\n",
      "efficientnet_v2_s\n",
      "fasterrcnn_mobilenet_v3_large_320_fpn\n",
      "cant find\n",
      "fasterrcnn_mobilenet_v3_large_fpn\n",
      "cant find\n",
      "fasterrcnn_resnet50_fpn\n",
      "cant find\n",
      "fasterrcnn_resnet50_fpn_v2\n",
      "cant find\n",
      "fcn_resnet101\n",
      "cant find\n",
      "fcn_resnet50\n",
      "cant find\n",
      "fcos_resnet50_fpn\n",
      "cant find\n",
      "googlenet\n",
      "inception_v3\n",
      "keypointrcnn_resnet50_fpn\n",
      "cant find\n",
      "lraspp_mobilenet_v3_large\n",
      "cant find\n",
      "maskrcnn_resnet50_fpn\n",
      "cant find\n",
      "maskrcnn_resnet50_fpn_v2\n",
      "cant find\n",
      "maxvit_t\n",
      "mc3_18\n",
      "cant find\n",
      "mnasnet0_5\n",
      "mnasnet0_75\n",
      "mnasnet1_0\n",
      "mnasnet1_3\n",
      "mobilenet_v2\n",
      "mobilenet_v3_large\n",
      "mobilenet_v3_small\n",
      "mvit_v1_b\n",
      "cant find\n",
      "mvit_v2_s\n",
      "cant find\n",
      "quantized_googlenet\n",
      "quantized - skip\n",
      "quantized_inception_v3\n",
      "quantized - skip\n",
      "quantized_mobilenet_v2\n",
      "quantized - skip\n",
      "quantized_mobilenet_v3_large\n",
      "quantized - skip\n",
      "quantized_resnet18\n",
      "quantized - skip\n",
      "quantized_resnet50\n",
      "quantized - skip\n",
      "quantized_resnext101_32x8d\n",
      "quantized - skip\n",
      "quantized_resnext101_64x4d\n",
      "quantized - skip\n",
      "quantized_shufflenet_v2_x0_5\n",
      "quantized - skip\n",
      "quantized_shufflenet_v2_x1_0\n",
      "quantized - skip\n",
      "quantized_shufflenet_v2_x1_5\n",
      "quantized - skip\n",
      "quantized_shufflenet_v2_x2_0\n",
      "quantized - skip\n",
      "r2plus1d_18\n",
      "cant find\n",
      "r3d_18\n",
      "cant find\n",
      "raft_large\n",
      "cant find\n",
      "raft_small\n",
      "cant find\n",
      "regnet_x_16gf\n",
      "regnet_x_1_6gf\n",
      "regnet_x_32gf\n",
      "regnet_x_3_2gf\n",
      "regnet_x_400mf\n",
      "regnet_x_800mf\n",
      "regnet_x_8gf\n",
      "regnet_y_128gf\n",
      "regnet_y_16gf\n",
      "regnet_y_1_6gf\n",
      "regnet_y_32gf\n",
      "regnet_y_3_2gf\n",
      "regnet_y_400mf\n",
      "regnet_y_800mf\n",
      "regnet_y_8gf\n",
      "resnet101\n",
      "resnet152\n",
      "resnet18\n",
      "resnet34\n",
      "resnet50\n",
      "resnext101_32x8d\n",
      "resnext101_64x4d\n",
      "resnext50_32x4d\n",
      "retinanet_resnet50_fpn\n",
      "cant find\n",
      "retinanet_resnet50_fpn_v2\n",
      "cant find\n",
      "s3d\n",
      "cant find\n",
      "shufflenet_v2_x0_5\n",
      "shufflenet_v2_x1_0\n",
      "shufflenet_v2_x1_5\n",
      "shufflenet_v2_x2_0\n",
      "squeezenet1_0\n",
      "squeezenet1_1\n",
      "ssd300_vgg16\n",
      "cant find\n",
      "ssdlite320_mobilenet_v3_large\n",
      "cant find\n",
      "swin3d_b\n",
      "cant find\n",
      "swin3d_s\n",
      "cant find\n",
      "swin3d_t\n",
      "cant find\n",
      "swin_b\n",
      "swin_s\n",
      "swin_t\n",
      "swin_v2_b\n",
      "swin_v2_s\n",
      "swin_v2_t\n",
      "vgg11\n",
      "vgg11_bn\n",
      "vgg13\n",
      "vgg13_bn\n",
      "vgg16\n",
      "vgg16_bn\n",
      "vgg19\n",
      "vgg19_bn\n",
      "vit_b_16\n",
      "vit_b_32\n",
      "vit_h_14\n",
      "vit_l_16\n",
      "vit_l_32\n",
      "wide_resnet101_2\n",
      "wide_resnet50_2\n",
      "efficientnetv2_xl\n",
      "vit_l_16_384\n",
      "vit_b_16_sam\n",
      "vit_b_32_sam\n"
     ]
    }
   ],
   "source": [
    "for model_arc in models.list_models():\n",
    "    print(model_arc)\n",
    "    #if model_arc in df['model'].values:\n",
    "    #    print('ja foi')\n",
    "    #    continue\n",
    "    if 'quantized' in model_arc:\n",
    "        print('quantized - skip')\n",
    "        continue\n",
    "    with torch.no_grad():\n",
    "        try: logits_val,labels_val,logits_test,labels_test = split_data.split_logits(*upload_logits(model_arc,DATASET,PATH_MODELS, \n",
    "                            split = 'test', device = dev),VAL_SIZE,SEED)\n",
    "        except: \n",
    "            print('cant find')\n",
    "            continue\n",
    "        risk_val = measures.wrong_class(logits_val,labels_val).float()\n",
    "        risk_test = measures.wrong_class(logits_test,labels_test).float()\n",
    "        p = post_hoc.optimize.p(logits_val,risk_val,metric = METRIC)\n",
    "        p_list[model_arc] = p.item()\n",
    "\n",
    "        acc[model_arc] = (1-risk_test.mean().item())\n",
    "        d_naurc_p[model_arc] = metrics.N_AURC(risk_test,post_hoc.MaxLogit_p(logits_test,p))\n",
    "        d_baseline_naurc[model_arc] = metrics.N_AURC(risk_test,measures.MSP(logits_test))\n",
    "        d_naurc_opt[model_arc] = min(d_naurc_p[model_arc],d_baseline_naurc[model_arc])\n",
    "        for a in target_accs:\n",
    "            d_sac_p[a][model_arc] = metrics.SAC(risk_test,post_hoc.MaxLogit_p(logits_test,p),a)\n",
    "            d_baseline_sac[a][model_arc] = metrics.SAC(risk_test,measures.MSP(logits_test),a)\n",
    "            d_sac_opt[a][model_arc] = max(d_sac_p[a][model_arc],d_baseline_sac[a][model_arc])\n",
    "                    "
   ]
  },
  {
   "cell_type": "code",
   "execution_count": 10,
   "metadata": {},
   "outputs": [],
   "source": [
    "ACC = 0.98\n",
    "optimal_p = []\n",
    "epsilon = 0.01\n",
    "for model_arc in p_list:\n",
    "    if d_sac_opt[ACC][model_arc] > (d_baseline_sac[ACC][model_arc]+epsilon):\n",
    "        optimal_p.append(p_list[model_arc])\n",
    "    else:\n",
    "        optimal_p.append(0)"
   ]
  },
  {
   "cell_type": "code",
   "execution_count": 11,
   "metadata": {},
   "outputs": [
    {
     "data": {
      "text/plain": [
       "8"
      ]
     },
     "execution_count": 11,
     "metadata": {},
     "output_type": "execute_result"
    }
   ],
   "source": [
    "p_list['efficientnet_b3']"
   ]
  },
  {
   "cell_type": "code",
   "execution_count": 12,
   "metadata": {},
   "outputs": [
    {
     "data": {
      "text/plain": [
       "array(['densenet161', 'efficientnet_b3', 'efficientnet_b4',\n",
       "       'shufflenet_v2_x0_5', 'shufflenet_v2_x1_0'], dtype='<U18')"
      ]
     },
     "execution_count": 12,
     "metadata": {},
     "output_type": "execute_result"
    }
   ],
   "source": [
    "np.array(list(p_list))[np.where(np.array(optimal_p)==8)[0]]"
   ]
  },
  {
   "cell_type": "code",
   "execution_count": 16,
   "metadata": {},
   "outputs": [
    {
     "data": {
      "image/png": "[encoded data removed]",
      "text/plain": [
       "<Figure size 1000x400 with 2 Axes>"
      ]
     },
     "metadata": {},
     "output_type": "display_data"
    }
   ],
   "source": [
    "\n",
    "fig,axes = plt.subplots(1,2,figsize = (10,4),sharey = True)\n",
    "fig.tight_layout()\n",
    "scatter = axes[0].scatter(acc.values(),d_baseline_sac[ACC].values(),c = optimal_p)\n",
    "axes[1].scatter(acc.values(),d_sac_opt[ACC].values(),c = optimal_p)\n",
    "axes[0].set_title('Baseline')\n",
    "axes[1].set_title('Optimized')\n",
    "for ax in axes:\n",
    "    ax.grid()\n",
    "    ax.set_xlabel('Accuracy')\n",
    "l = scatter.legend_elements()[1]\n",
    "for n,i in enumerate(l):\n",
    "    l[n] = 'p = '+i \n",
    "l[0] = 'MSP'\n",
    "\n",
    "axes[0].set_ylabel('SAC [%] for 98% accuracy')\n",
    "legend1 = axes[0].legend(scatter.legend_elements()[0], l)\n",
    "plt.savefig(os.path.join(FIGS_PATH, f'SAC.pdf'), transparent = True, format = 'pdf',bbox_inches = 'tight')\n",
    "plt.show()"
   ]
  },
  {
   "cell_type": "code",
   "execution_count": 14,
   "metadata": {},
   "outputs": [
    {
     "name": "stdout",
     "output_type": "stream",
     "text": [
      "SAC 98% efficientnetv2_xl: 0.03\n",
      "SAC 98% resnet50: 0.17\n",
      "SAC 98% wide_resnet50_2: 0.14\n",
      "SAC 98% vgg16: 29.79\n",
      "SAC 98% convnext_base: 0.22\n",
      "SAC 98% vit_h_14: 61.34\n"
     ]
    }
   ],
   "source": [
    "for m in ['efficientnetv2_xl','resnet50','wide_resnet50_2','vgg16','convnext_base','vit_h_14']:\n",
    "    print(f'SAC 98% {m}: {d_baseline_sac[0.98][m]*100:.2f}')"
   ]
  },
  {
   "cell_type": "code",
   "execution_count": null,
   "metadata": {},
   "outputs": [],
   "source": []
  }
 ],
 "metadata": {
  "kernelspec": {
   "display_name": "Python 3 (ipykernel)",
   "language": "python",
   "name": "python3"
  },
  "language_info": {
   "codemirror_mode": {
    "name": "ipython",
    "version": 3
   },
   "file_extension": ".py",
   "mimetype": "text/x-python",
   "name": "python",
   "nbconvert_exporter": "python",
   "pygments_lexer": "ipython3",
   "version": "3.10.13"
  }
 },
 "nbformat": 4,
 "nbformat_minor": 4
}
