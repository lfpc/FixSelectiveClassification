{
 "cells": [
  {
   "cell_type": "markdown",
   "metadata": {},
   "source": [
    "# Import and pre-definitions"
   ]
  },
  {
   "cell_type": "code",
   "execution_count": 1,
   "metadata": {},
   "outputs": [],
   "source": [
    "import os\n",
    "MAIN_PATH = r'/home/luis-felipe'\n",
    "DATA_PATH = os.path.join(MAIN_PATH,'data')\n",
    "PATH_MODELS = os.path.join(MAIN_PATH,'torch_models')\n",
    "FIGS_PATH = os.path.join(MAIN_PATH,'results','figs')"
   ]
  },
  {
   "cell_type": "code",
   "execution_count": 2,
   "metadata": {},
   "outputs": [],
   "source": [
    "import torch\n",
    "import matplotlib\n",
    "import matplotlib.pyplot as plt\n",
    "import numpy as np\n",
    "import pandas as pd\n",
    "from collections import defaultdict"
   ]
  },
  {
   "cell_type": "code",
   "execution_count": 3,
   "metadata": {},
   "outputs": [
    {
     "name": "stdout",
     "output_type": "stream",
     "text": [
      "True\n"
     ]
    }
   ],
   "source": [
    "# Define o computador utilizado como cuda (gpu) se existir ou cpu caso contrário\n",
    "print(torch.cuda.is_available())\n",
    "dev = torch.device('cuda') if torch.cuda.is_available() else torch.device('cpu')\n",
    "torch.set_default_dtype(torch.float64)\n",
    "SEED = 42\n",
    "torch.manual_seed(42)\n",
    "np.random.seed(42)"
   ]
  },
  {
   "cell_type": "code",
   "execution_count": 4,
   "metadata": {},
   "outputs": [],
   "source": [
    "import sys\n",
    "sys.path.insert(1, '..')\n",
    "sys.path.insert(1, '../..')\n",
    "\n",
    "import models\n",
    "from utils import measures,metrics\n",
    "from data_utils import upload_logits,split_data\n",
    "import post_hoc"
   ]
  },
  {
   "cell_type": "markdown",
   "metadata": {},
   "source": [
    "# Evaluate logits"
   ]
  },
  {
   "cell_type": "code",
   "execution_count": 5,
   "metadata": {},
   "outputs": [],
   "source": [
    "DATASET = 'ImageNet'\n",
    "VAL_SIZE = 0.1 #5000\n",
    "SUB_VAL_SIZE = 0.2\n",
    "METRIC = metrics.AURC\n",
    "method = measures.max_logit"
   ]
  },
  {
   "cell_type": "code",
   "execution_count": 6,
   "metadata": {},
   "outputs": [],
   "source": [
    "p_range = range(10)\n",
    "\n",
    "d_naurc_p = {p:defaultdict(list) for p in p_range}\n",
    "d_naurc_msp_p = {p:defaultdict(list) for p in p_range}\n",
    "d_naurc_opt = defaultdict(list)\n",
    "d_naurc_msp_opt = defaultdict(list)\n",
    "d_baseline = defaultdict(list)\n",
    "acc = defaultdict(list)"
   ]
  },
  {
   "cell_type": "code",
   "execution_count": 7,
   "metadata": {},
   "outputs": [],
   "source": [
    "NUM_SPLITS = 10\n",
    "seed = SEED\n",
    "for i in range(NUM_SPLITS):\n",
    "    for model_arc in models.list_models(DATASET):\n",
    "        #print(model_arc)\n",
    "        with torch.no_grad():\n",
    "            logits_val,labels_val,logits_test,labels_test = split_data.split_logits(*upload_logits(model_arc,DATASET,PATH_MODELS, \n",
    "                                split = 'test', device = dev),VAL_SIZE,seed = seed)\n",
    "            logits_val,labels_val = logits_val[:int(SUB_VAL_SIZE*labels_val.size(0))],labels_val[:int(SUB_VAL_SIZE*labels_val.size(0))]\n",
    "            risk_val = measures.wrong_class(logits_val,labels_val).float()\n",
    "            risk_test = measures.wrong_class(logits_test,labels_test).float()\n",
    "        acc[model_arc].append(1-risk_test.mean().item())\n",
    "\n",
    "        for p in p_range:\n",
    "            d_naurc_p[p][model_arc].append(metrics.N_AURC(method(post_hoc.normalize(logits_test,p)),risk_test))\n",
    "            p,T = post_hoc.optimize.p_and_T(logits_val,risk_val,p_range=[p])\n",
    "            d_naurc_msp_p[p][model_arc].append(metrics.N_AURC(measures.MSP(post_hoc.normalize(logits_test,p).div(T)),risk_test))\n",
    "        p = post_hoc.optimize.p(logits_val,risk_val,metric = METRIC)\n",
    "        d_naurc_opt[model_arc].append(metrics.N_AURC(post_hoc.MaxLogit_pNorm(logits_test,p),risk_test))\n",
    "        pT = post_hoc.optimize.p_and_T(logits_val,risk_val,metric = METRIC)\n",
    "        d_naurc_msp_opt[model_arc].append(metrics.N_AURC(measures.MSP(post_hoc.normalize(logits_test,pT[0]).div(pT[1])),risk_test))\n",
    "        d_baseline[model_arc].append(metrics.N_AURC(measures.MSP(logits_test),risk_test))\n",
    "    seed = seed+10\n",
    "    models_list = list(acc.keys())"
   ]
  },
  {
   "cell_type": "code",
   "execution_count": 8,
   "metadata": {},
   "outputs": [],
   "source": [
    "naurc_means = {}\n",
    "naurc_std = {}\n",
    "baseline_means = {}\n",
    "for m,v in d_naurc_opt.items():\n",
    "    naurc_means[m] = np.mean(v)\n",
    "    baseline_means[m] = np.mean(d_baseline[m])\n",
    "    naurc_std[m] = np.std(v)"
   ]
  },
  {
   "cell_type": "code",
   "execution_count": 9,
   "metadata": {},
   "outputs": [],
   "source": [
    "gains = {}\n",
    "apg = {}\n",
    "gains_msp = {}\n",
    "apg_msp = {}\n",
    "apg_std = {}\n",
    "apg_msp_std = {}\n",
    "for p in p_range:\n",
    "    gains[p] = post_hoc.significant(np.array(list(d_baseline.values()))-np.array(list(d_naurc_p[p].values())))\n",
    "    gains_msp[p] = post_hoc.significant(np.array(list(d_baseline.values()))-np.array(list(d_naurc_msp_p[p].values())))\n",
    "gains['Tunable'] = post_hoc.significant(np.array(list(d_baseline.values()))-np.array(list(d_naurc_opt.values())))\n",
    "gains_msp['Tunable'] = post_hoc.significant(np.array(list(d_baseline.values()))-np.array(list(d_naurc_msp_opt.values())))\n",
    "for p in gains:\n",
    "    apg[p] = gains[p].mean()\n",
    "    apg_msp[p] = gains_msp[p].mean()\n",
    "    apg_std[p] = gains[p].mean(0).std()\n",
    "    apg_msp_std[p] = gains_msp[p].mean(0).std()"
   ]
  },
  {
   "cell_type": "code",
   "execution_count": 10,
   "metadata": {},
   "outputs": [
    {
     "data": {
      "text/plain": [
       "0.0679490162827848"
      ]
     },
     "execution_count": 10,
     "metadata": {},
     "output_type": "execute_result"
    }
   ],
   "source": [
    "post_hoc.significant((np.array(list(d_baseline.values()))-np.array(list(d_naurc_opt.values())))).mean()"
   ]
  },
  {
   "cell_type": "code",
   "execution_count": 11,
   "metadata": {},
   "outputs": [
    {
     "name": "stdout",
     "output_type": "stream",
     "text": [
      "$p$ & MaxLogit-pNorm & MSP-pNorm \\\\\n",
      "\\midrule\n",
      "0& 0.00000 {\\footnotesize $\\pm$0.00000}& 0.05571 {\\footnotesize $\\pm$0.00164} \\\\\n",
      "1& 0.00199 {\\footnotesize $\\pm$0.00007}& 0.05699 {\\footnotesize $\\pm$0.00365} \\\\\n",
      "2& 0.01519 {\\footnotesize $\\pm$0.00050}& 0.06234 {\\footnotesize $\\pm$0.00329} \\\\\n",
      "3& 0.05058 {\\footnotesize $\\pm$0.00049}& 0.06527 {\\footnotesize $\\pm$0.00340} \\\\\n",
      "4& 0.06443 {\\footnotesize $\\pm$0.00051}& 0.06621 {\\footnotesize $\\pm$0.00375} \\\\\n",
      "5& 0.06805 {\\footnotesize $\\pm$0.00048}& 0.06625 {\\footnotesize $\\pm$0.00338} \\\\\n",
      "6& 0.06814 {\\footnotesize $\\pm$0.00048}& 0.06589 {\\footnotesize $\\pm$0.00332} \\\\\n",
      "7& 0.06692 {\\footnotesize $\\pm$0.00053}& 0.06551 {\\footnotesize $\\pm$0.00318} \\\\\n",
      "8& 0.06544 {\\footnotesize $\\pm$0.00048}& 0.06512 {\\footnotesize $\\pm$0.00345} \\\\\n",
      "9& 0.06410 {\\footnotesize $\\pm$0.00048}& 0.06491 {\\footnotesize $\\pm$0.00329} \\\\\n",
      "Tunable& 0.06795 {\\footnotesize $\\pm$0.00077}& 0.06436 {\\footnotesize $\\pm$0.00413} \\\\\n"
     ]
    }
   ],
   "source": [
    "print(r'$p$ & MaxLogit-pNorm & MSP-pNorm \\\\')\n",
    "print('\\midrule')\n",
    "for p in apg.keys():\n",
    "    string = f'{p}'\n",
    "    string += f\"& {apg[p]:.5f}\"+r' {\\footnotesize $\\pm$'+f\"{apg_std[p]:.5f}\" + \"}\"\n",
    "    string += f\"& {apg_msp[p]:.5f}\"+r' {\\footnotesize $\\pm$'+f\"{apg_msp_std[p]:.5f}\" + \"}\"\n",
    "    print(string + r' \\\\')"
   ]
  }
 ],
 "metadata": {
  "kernelspec": {
   "display_name": "Python 3 (ipykernel)",
   "language": "python",
   "name": "python3"
  },
  "language_info": {
   "codemirror_mode": {
    "name": "ipython",
    "version": 3
   },
   "file_extension": ".py",
   "mimetype": "text/x-python",
   "name": "python",
   "nbconvert_exporter": "python",
   "pygments_lexer": "ipython3",
   "version": "3.10.13"
  }
 },
 "nbformat": 4,
 "nbformat_minor": 4
}
